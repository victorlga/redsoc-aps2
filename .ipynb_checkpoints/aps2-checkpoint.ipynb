{
 "cells": [
  {
   "cell_type": "markdown",
   "id": "7356e2d7-6504-485a-af60-93126f4ba239",
   "metadata": {},
   "source": [
    "# Building and analysing a paper co-authorship network"
   ]
  },
  {
   "cell_type": "code",
   "execution_count": 5,
   "id": "5a2685ca-0a75-4866-a8e6-e30ae77bdb37",
   "metadata": {
    "execution": {
     "iopub.execute_input": "2023-09-15T17:27:43.030162Z",
     "iopub.status.busy": "2023-09-15T17:27:43.029646Z",
     "iopub.status.idle": "2023-09-15T17:27:43.035758Z",
     "shell.execute_reply": "2023-09-15T17:27:43.034800Z",
     "shell.execute_reply.started": "2023-09-15T17:27:43.030123Z"
    }
   },
   "outputs": [],
   "source": [
    "import graph_tool_extras as gte\n",
    "from pathlib import Path"
   ]
  },
  {
   "cell_type": "markdown",
   "id": "cdb9be19-a3ee-4926-b1d2-e2c8c43dc672",
   "metadata": {},
   "source": [
    "## Introduction"
   ]
  },
  {
   "cell_type": "markdown",
   "id": "c7e50b3d-36ef-431a-8283-2ae1c9f8d131",
   "metadata": {},
   "source": [
    "In this notebook, a network of co-authorship of papers about condensed matter authors was built. The database in the file below is used. It's from the Stanford Network Analysis Project's dataset at https://networks.skewed.de/net/arxiv_authors#CondMat_draw."
   ]
  },
  {
   "cell_type": "code",
   "execution_count": 12,
   "id": "7eb99007-ccd3-4fa6-9729-9f739c695cc1",
   "metadata": {
    "execution": {
     "iopub.execute_input": "2023-09-15T17:28:32.531220Z",
     "iopub.status.busy": "2023-09-15T17:28:32.530666Z",
     "iopub.status.idle": "2023-09-15T17:28:32.537305Z",
     "shell.execute_reply": "2023-09-15T17:28:32.536233Z",
     "shell.execute_reply.started": "2023-09-15T17:28:32.531175Z"
    }
   },
   "outputs": [],
   "source": [
    "FOLDER_PATH = Path.cwd() / 'archive'\n",
    "EDGES_FILE_PATH = FOLDER_PATH / 'web-Google.txt'"
   ]
  },
  {
   "cell_type": "markdown",
   "id": "c5caf39a-4d2c-4b7e-a74e-1b596c064f4f",
   "metadata": {},
   "source": [
    "## Understanding the data"
   ]
  },
  {
   "cell_type": "markdown",
   "id": "85703717-95e7-4b8e-90a0-7fb20bda5902",
   "metadata": {},
   "source": [
    "| Concept of vertices                                                                                                 | Concept of edges                                                                                                                             | Operationalization of vertices                                                                                                                                                                                                                                                           | Operationalization of edges                                                                                                                                                                                                                                                  |\n",
    "|---------------------------------------------------------------------------------------------------------------------|---------------------------------------------------------------------------------------------------------------------------------------------|----------------------------------------------------------------------------------------------------------------------------------------------------------------------------------------------------------------------------------------------------------------------------------------|-----------------------------------------------------------------------------------------------------------------------------------------------------------------------------------------------------------------------------------------------------------------------------|\n",
    "| Webpage                                                                                                             | An edge between i and j indicates co-authorship between i and j.                                                                           | Each vertex represents an author of a paper in the cond-mat category on the arXiv platform. The data was collected from January 1993 to April 2003.                                                                                                                                 | An edge between authors i and j indicates a co-authorship relationship between them. In cases where other k authors also contributed to the production of the paper, these additional k authors are connected to both authors i and j, as well as to each other, through edges. |\n"
   ]
  },
  {
   "cell_type": "markdown",
   "id": "952e8d46-02d4-4cce-92b7-9fcdca7381d6",
   "metadata": {},
   "source": [
    "## Creating functions to build the network"
   ]
  },
  {
   "cell_type": "code",
   "execution_count": 13,
   "id": "e8548565-eb98-4d8e-b88c-5606b90d0a48",
   "metadata": {
    "execution": {
     "iopub.execute_input": "2023-09-15T17:28:33.339967Z",
     "iopub.status.busy": "2023-09-15T17:28:33.339519Z",
     "iopub.status.idle": "2023-09-15T17:28:33.346532Z",
     "shell.execute_reply": "2023-09-15T17:28:33.345332Z",
     "shell.execute_reply.started": "2023-09-15T17:28:33.339933Z"
    }
   },
   "outputs": [],
   "source": [
    "def get_or_add_vertex(g, id):\n",
    "    u = g.vertex_by_id(id)\n",
    "    if u is None:\n",
    "        u = g.add_vertex_by_id(id)\n",
    "    return u"
   ]
  },
  {
   "cell_type": "code",
   "execution_count": 14,
   "id": "2b7c4621-fd32-40db-8972-6a65bbd64fe6",
   "metadata": {
    "execution": {
     "iopub.execute_input": "2023-09-15T17:28:33.573690Z",
     "iopub.status.busy": "2023-09-15T17:28:33.573165Z",
     "iopub.status.idle": "2023-09-15T17:28:33.580255Z",
     "shell.execute_reply": "2023-09-15T17:28:33.578930Z",
     "shell.execute_reply.started": "2023-09-15T17:28:33.573650Z"
    }
   },
   "outputs": [],
   "source": [
    "def get_or_add_edge(g, author_a, author_b):\n",
    "    e = g.edge_by_ids(author_a, author_b)\n",
    "    if e is None:\n",
    "        e = g.add_edge_by_ids(author_a, author_b)\n",
    "    return e"
   ]
  },
  {
   "cell_type": "markdown",
   "id": "89c46a52-7637-4cc2-a328-4ea2419e46b8",
   "metadata": {},
   "source": [
    "## Reading the data and building the network"
   ]
  },
  {
   "cell_type": "code",
   "execution_count": 20,
   "id": "0f1dc392-21ed-4adb-8d27-49ab0526512a",
   "metadata": {
    "execution": {
     "iopub.execute_input": "2023-09-15T17:29:56.894200Z",
     "iopub.status.busy": "2023-09-15T17:29:56.893986Z",
     "iopub.status.idle": "2023-09-15T17:29:56.898037Z",
     "shell.execute_reply": "2023-09-15T17:29:56.896667Z",
     "shell.execute_reply.started": "2023-09-15T17:29:56.894173Z"
    }
   },
   "outputs": [],
   "source": [
    "g = gte.Graph(directed=True)"
   ]
  },
  {
   "cell_type": "code",
   "execution_count": 30,
   "id": "51386696-159a-4ca9-a8f1-faf5798c597d",
   "metadata": {
    "execution": {
     "iopub.execute_input": "2023-09-15T17:33:51.604159Z",
     "iopub.status.busy": "2023-09-15T17:33:51.603723Z",
     "iopub.status.idle": "2023-09-15T17:33:51.608146Z",
     "shell.execute_reply": "2023-09-15T17:33:51.607648Z",
     "shell.execute_reply.started": "2023-09-15T17:33:51.604143Z"
    }
   },
   "outputs": [
    {
     "name": "stdout",
     "output_type": "stream",
     "text": [
      "['0', '11342\\n']\n",
      "['11342']\n"
     ]
    }
   ],
   "source": [
    "with open(EDGES_FILE_PATH) as file:\n",
    "\n",
    "    next(file)\n",
    "    next(file)\n",
    "    next(file)\n",
    "    next(file)\n",
    "    \n",
    "    for line in file:\n",
    "        parts = line.split('\\t')\n",
    "\n",
    "        author_a = parts[0]\n",
    "        author_b = parts[1].replace('\\n', '')\n",
    "        \n",
    "        vertex_a = get_or_add_vertex(g, author_a)\n",
    "        vertex_b = get_or_add_vertex(g, author_b)\n",
    "        edge = get_or_add_edge(g, author_a, author_b)"
   ]
  },
  {
   "cell_type": "code",
   "execution_count": 41,
   "id": "017181be-68e4-4e02-9fbe-2e6f42335961",
   "metadata": {
    "execution": {
     "iopub.execute_input": "2023-09-14T14:29:38.036535Z",
     "iopub.status.busy": "2023-09-14T14:29:38.036079Z",
     "iopub.status.idle": "2023-09-14T14:29:38.197790Z",
     "shell.execute_reply": "2023-09-14T14:29:38.197137Z",
     "shell.execute_reply.started": "2023-09-14T14:29:38.036514Z"
    }
   },
   "outputs": [],
   "source": [
    "g = gte.clean(g)"
   ]
  },
  {
   "cell_type": "code",
   "execution_count": 42,
   "id": "58f23076-b324-4a4d-a73f-c75d6370129f",
   "metadata": {
    "execution": {
     "iopub.execute_input": "2023-09-14T14:29:54.774624Z",
     "iopub.status.busy": "2023-09-14T14:29:54.773888Z",
     "iopub.status.idle": "2023-09-14T14:30:00.994909Z",
     "shell.execute_reply": "2023-09-14T14:30:00.994472Z",
     "shell.execute_reply.started": "2023-09-14T14:29:54.774559Z"
    }
   },
   "outputs": [],
   "source": [
    "gte.save(g, 'cond_mat_authors.net.gz')"
   ]
  },
  {
   "cell_type": "markdown",
   "id": "2007fcb0-e3f6-4a21-89a9-9056b6f06135",
   "metadata": {},
   "source": [
    "## Configuring the layout and rendering the network"
   ]
  },
  {
   "cell_type": "code",
   "execution_count": 43,
   "id": "6e00504a-1776-4b37-9868-89ca4c5e214b",
   "metadata": {
    "execution": {
     "iopub.execute_input": "2023-09-14T14:30:02.776694Z",
     "iopub.status.busy": "2023-09-14T14:30:02.776483Z",
     "iopub.status.idle": "2023-09-14T14:30:04.081132Z",
     "shell.execute_reply": "2023-09-14T14:30:04.080553Z",
     "shell.execute_reply.started": "2023-09-14T14:30:02.776679Z"
    }
   },
   "outputs": [
    {
     "data": {
      "text/html": [
       "\n",
       "    <script src=\"/static/.hidden/netpixi.min.js\"></script>\n"
      ],
      "text/plain": [
       "<IPython.core.display.HTML object>"
      ]
     },
     "metadata": {},
     "output_type": "display_data"
    }
   ],
   "source": [
    "from graph_tool import draw\n",
    "import netpixi"
   ]
  },
  {
   "cell_type": "code",
   "execution_count": 44,
   "id": "6578e088-7675-4f8b-bc6f-b344775fa138",
   "metadata": {
    "execution": {
     "iopub.execute_input": "2023-09-14T14:30:04.082339Z",
     "iopub.status.busy": "2023-09-14T14:30:04.082007Z",
     "iopub.status.idle": "2023-09-14T14:33:28.985246Z",
     "shell.execute_reply": "2023-09-14T14:33:28.984691Z",
     "shell.execute_reply.started": "2023-09-14T14:30:04.082321Z"
    }
   },
   "outputs": [],
   "source": [
    "layout = draw.sfdp_layout(g)"
   ]
  },
  {
   "cell_type": "code",
   "execution_count": 45,
   "id": "6b9e2bf3-7bfd-40eb-8690-6880de42d0e2",
   "metadata": {
    "execution": {
     "iopub.execute_input": "2023-09-14T14:33:28.987375Z",
     "iopub.status.busy": "2023-09-14T14:33:28.986893Z",
     "iopub.status.idle": "2023-09-14T14:33:29.935563Z",
     "shell.execute_reply": "2023-09-14T14:33:29.934895Z",
     "shell.execute_reply.started": "2023-09-14T14:33:28.987355Z"
    }
   },
   "outputs": [],
   "source": [
    "gte.move(g, layout)"
   ]
  },
  {
   "cell_type": "code",
   "execution_count": 46,
   "id": "2a03fbf6-d32c-4db9-b6a3-038f06b39839",
   "metadata": {
    "execution": {
     "iopub.execute_input": "2023-09-14T14:33:29.936751Z",
     "iopub.status.busy": "2023-09-14T14:33:29.936517Z",
     "iopub.status.idle": "2023-09-14T14:33:38.696204Z",
     "shell.execute_reply": "2023-09-14T14:33:38.695703Z",
     "shell.execute_reply.started": "2023-09-14T14:33:29.936728Z"
    }
   },
   "outputs": [],
   "source": [
    "gte.save(g, 'cond_mat_authors_layout.net.gz')"
   ]
  },
  {
   "cell_type": "code",
   "execution_count": 47,
   "id": "544a69dd-5a60-4c65-90e9-c06087ad0167",
   "metadata": {
    "execution": {
     "iopub.execute_input": "2023-09-14T14:33:38.697200Z",
     "iopub.status.busy": "2023-09-14T14:33:38.697048Z",
     "iopub.status.idle": "2023-09-14T14:33:38.704945Z",
     "shell.execute_reply": "2023-09-14T14:33:38.704163Z",
     "shell.execute_reply.started": "2023-09-14T14:33:38.697187Z"
    }
   },
   "outputs": [
    {
     "data": {
      "text/html": [
       "\n",
       "        <div id=\"Vf9nG6tfLjTe4RQPEd3KCT\"></div>\n",
       "        <script>netpixi.render('Vf9nG6tfLjTe4RQPEd3KCT', '/static/__shared__/redsoc-aps2/cond_mat_authors_layout.net.gz', 1.7777777777777777, true, true, false, true);</script>\n",
       "    "
      ],
      "text/plain": [
       "<IPython.core.display.HTML object>"
      ]
     },
     "metadata": {},
     "output_type": "display_data"
    }
   ],
   "source": [
    "r = netpixi.render('cond_mat_authors_layout.net.gz', infinite=True)"
   ]
  },
  {
   "cell_type": "markdown",
   "id": "3860136a-997e-402f-9917-12fdd7c59412",
   "metadata": {},
   "source": [
    "## Improving network vizualization"
   ]
  },
  {
   "cell_type": "code",
   "execution_count": 51,
   "id": "586d6e2e-bac0-4f75-b810-ade3464cbd8b",
   "metadata": {
    "execution": {
     "iopub.execute_input": "2023-09-14T14:36:49.030732Z",
     "iopub.status.busy": "2023-09-14T14:36:49.030240Z",
     "iopub.status.idle": "2023-09-14T14:36:49.034742Z",
     "shell.execute_reply": "2023-09-14T14:36:49.034223Z",
     "shell.execute_reply.started": "2023-09-14T14:36:49.030715Z"
    }
   },
   "outputs": [
    {
     "data": {
      "text/html": [
       "\n",
       "        <div id=\"VSv7sqmF27borDWDnUTgGP\"></div>\n",
       "        <script>netpixi.call('VSv7sqmF27borDWDnUTgGP', 'Vf9nG6tfLjTe4RQPEd3KCT', 'changeGraph', 'eyJ0eXBlIjogInNldHRpbmdzIiwgInByb3BzIjogeyJ2ZXJ0ZXgiOiB7InNpemUiOiAxLCAiY29sb3IiOiAxNjcxMTY4MCwgImJ3aWR0aCI6IDEsICJiY29sb3IiOiAzMDQ2NH19fQo=');</script>\n",
       "    "
      ],
      "text/plain": [
       "<IPython.core.display.HTML object>"
      ]
     },
     "metadata": {},
     "output_type": "display_data"
    }
   ],
   "source": [
    "r.vertex_default(\n",
    "    size=1,\n",
    "    color=0xff0000,\n",
    "    bwidth=1,\n",
    "    bcolor=0x007700,\n",
    ")"
   ]
  },
  {
   "cell_type": "code",
   "execution_count": 52,
   "id": "d26f15c6-d02e-4fa4-85a0-1a58033900b6",
   "metadata": {
    "execution": {
     "iopub.execute_input": "2023-09-14T14:37:12.694523Z",
     "iopub.status.busy": "2023-09-14T14:37:12.694239Z",
     "iopub.status.idle": "2023-09-14T14:37:12.698846Z",
     "shell.execute_reply": "2023-09-14T14:37:12.698245Z",
     "shell.execute_reply.started": "2023-09-14T14:37:12.694507Z"
    }
   },
   "outputs": [
    {
     "data": {
      "text/html": [
       "\n",
       "        <div id=\"YRt2iGN7SeEfw59SZgWPFV\"></div>\n",
       "        <script>netpixi.call('YRt2iGN7SeEfw59SZgWPFV', 'Vf9nG6tfLjTe4RQPEd3KCT', 'changeGraph', 'eyJ0eXBlIjogInNldHRpbmdzIiwgInByb3BzIjogeyJlZGdlIjogeyJ3aWR0aCI6IDAuMiwgImNvbG9yIjogMTY3NzcyMTUsICJjdXJ2ZTEiOiAwLCAiY3VydmUyIjogMH19fQo=');</script>\n",
       "    "
      ],
      "text/plain": [
       "<IPython.core.display.HTML object>"
      ]
     },
     "metadata": {},
     "output_type": "display_data"
    }
   ],
   "source": [
    "r.edge_default(\n",
    "    width=0.2,\n",
    "    color=0xffffff,\n",
    "    curve1=0,\n",
    "    curve2=0,\n",
    ")"
   ]
  },
  {
   "cell_type": "markdown",
   "id": "4603ae38-dadb-4284-be5a-6edc72310fce",
   "metadata": {},
   "source": [
    "## Analyzing the network"
   ]
  },
  {
   "cell_type": "code",
   "execution_count": null,
   "id": "5b3690c0-5a81-480b-9efd-ddde9fd0541c",
   "metadata": {},
   "outputs": [],
   "source": []
  }
 ],
 "metadata": {
  "kernelspec": {
   "display_name": "Python 3 (ipykernel)",
   "language": "python",
   "name": "python3"
  },
  "language_info": {
   "codemirror_mode": {
    "name": "ipython",
    "version": 3
   },
   "file_extension": ".py",
   "mimetype": "text/x-python",
   "name": "python",
   "nbconvert_exporter": "python",
   "pygments_lexer": "ipython3",
   "version": "3.11.5"
  }
 },
 "nbformat": 4,
 "nbformat_minor": 5
}
