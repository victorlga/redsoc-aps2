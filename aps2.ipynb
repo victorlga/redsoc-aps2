{
 "cells": [
  {
   "cell_type": "markdown",
   "id": "7356e2d7-6504-485a-af60-93126f4ba239",
   "metadata": {},
   "source": [
    "# Building and analysing a paper co-authorship network"
   ]
  },
  {
   "cell_type": "code",
   "execution_count": 5,
   "id": "5a2685ca-0a75-4866-a8e6-e30ae77bdb37",
   "metadata": {
    "execution": {
     "iopub.execute_input": "2023-09-15T19:09:28.830962Z",
     "iopub.status.busy": "2023-09-15T19:09:28.829786Z",
     "iopub.status.idle": "2023-09-15T19:09:29.454135Z",
     "shell.execute_reply": "2023-09-15T19:09:29.453460Z",
     "shell.execute_reply.started": "2023-09-15T19:09:28.830918Z"
    }
   },
   "outputs": [],
   "source": [
    "import graph_tool_extras as gte\n",
    "from pathlib import Path\n",
    "\n",
    "import distribution as dst\n",
    "\n",
    "from itertools import combinations\n",
    "from random import random\n",
    "\n",
    "from math import log"
   ]
  },
  {
   "cell_type": "markdown",
   "id": "cdb9be19-a3ee-4926-b1d2-e2c8c43dc672",
   "metadata": {},
   "source": [
    "## Introduction"
   ]
  },
  {
   "cell_type": "markdown",
   "id": "c7e50b3d-36ef-431a-8283-2ae1c9f8d131",
   "metadata": {},
   "source": [
    "In this notebook, a network of co-authorship of papers about condensed matter authors was built. The database in the file below is used. It's from the Stanford Network Analysis Project's dataset at https://networks.skewed.de/net/arxiv_authors#CondMat_draw."
   ]
  },
  {
   "cell_type": "code",
   "execution_count": 6,
   "id": "7eb99007-ccd3-4fa6-9729-9f739c695cc1",
   "metadata": {
    "execution": {
     "iopub.execute_input": "2023-09-15T19:09:29.455482Z",
     "iopub.status.busy": "2023-09-15T19:09:29.455148Z",
     "iopub.status.idle": "2023-09-15T19:09:29.458871Z",
     "shell.execute_reply": "2023-09-15T19:09:29.458134Z",
     "shell.execute_reply.started": "2023-09-15T19:09:29.455462Z"
    }
   },
   "outputs": [],
   "source": [
    "FOLDER_PATH = Path.cwd() / 'archive'\n",
    "EDGES_FILE_PATH = FOLDER_PATH / 'musae_git_edges.csv'"
   ]
  },
  {
   "cell_type": "markdown",
   "id": "c5caf39a-4d2c-4b7e-a74e-1b596c064f4f",
   "metadata": {},
   "source": [
    "## Understanding the data"
   ]
  },
  {
   "cell_type": "markdown",
   "id": "85703717-95e7-4b8e-90a0-7fb20bda5902",
   "metadata": {},
   "source": [
    "| Concept of vertices                                                                                                 | Concept of edges                                                                                                                             | Operationalization of vertices                                                                                                                                                                                                                                                           | Operationalization of edges                                                                                                                                                                                                                                                  |\n",
    "|---------------------------------------------------------------------------------------------------------------------|---------------------------------------------------------------------------------------------------------------------------------------------|----------------------------------------------------------------------------------------------------------------------------------------------------------------------------------------------------------------------------------------------------------------------------------------|-----------------------------------------------------------------------------------------------------------------------------------------------------------------------------------------------------------------------------------------------------------------------------|\n",
    "| Webpage                                                                                                             | An edge between i and j indicates co-authorship between i and j.                                                                           | Each vertex represents an author of a paper in the cond-mat category on the arXiv platform. The data was collected from January 1993 to April 2003.                                                                                                                                 | An edge between authors i and j indicates a co-authorship relationship between them. In cases where other k authors also contributed to the production of the paper, these additional k authors are connected to both authors i and j, as well as to each other, through edges. |\n"
   ]
  },
  {
   "cell_type": "markdown",
   "id": "952e8d46-02d4-4cce-92b7-9fcdca7381d6",
   "metadata": {},
   "source": [
    "## Creating functions to build the network"
   ]
  },
  {
   "cell_type": "code",
   "execution_count": 7,
   "id": "e8548565-eb98-4d8e-b88c-5606b90d0a48",
   "metadata": {
    "execution": {
     "iopub.execute_input": "2023-09-15T19:09:30.164783Z",
     "iopub.status.busy": "2023-09-15T19:09:30.164208Z",
     "iopub.status.idle": "2023-09-15T19:09:30.168323Z",
     "shell.execute_reply": "2023-09-15T19:09:30.167577Z",
     "shell.execute_reply.started": "2023-09-15T19:09:30.164758Z"
    }
   },
   "outputs": [],
   "source": [
    "def get_or_add_vertex(g, id):\n",
    "    u = g.vertex_by_id(id)\n",
    "    if u is None:\n",
    "        u = g.add_vertex_by_id(id)\n",
    "    return u"
   ]
  },
  {
   "cell_type": "code",
   "execution_count": 8,
   "id": "2b7c4621-fd32-40db-8972-6a65bbd64fe6",
   "metadata": {
    "execution": {
     "iopub.execute_input": "2023-09-15T19:09:31.433968Z",
     "iopub.status.busy": "2023-09-15T19:09:31.433728Z",
     "iopub.status.idle": "2023-09-15T19:09:31.437585Z",
     "shell.execute_reply": "2023-09-15T19:09:31.436716Z",
     "shell.execute_reply.started": "2023-09-15T19:09:31.433950Z"
    }
   },
   "outputs": [],
   "source": [
    "def get_or_add_edge(g, author_a, author_b):\n",
    "    e = g.edge_by_ids(author_a, author_b)\n",
    "    if e is None:\n",
    "        e = g.add_edge_by_ids(author_a, author_b)\n",
    "    return e"
   ]
  },
  {
   "cell_type": "markdown",
   "id": "89c46a52-7637-4cc2-a328-4ea2419e46b8",
   "metadata": {},
   "source": [
    "## Reading the data and building the network"
   ]
  },
  {
   "cell_type": "code",
   "execution_count": 9,
   "id": "0f1dc392-21ed-4adb-8d27-49ab0526512a",
   "metadata": {
    "execution": {
     "iopub.execute_input": "2023-09-15T19:09:32.449685Z",
     "iopub.status.busy": "2023-09-15T19:09:32.449236Z",
     "iopub.status.idle": "2023-09-15T19:09:32.453816Z",
     "shell.execute_reply": "2023-09-15T19:09:32.453130Z",
     "shell.execute_reply.started": "2023-09-15T19:09:32.449661Z"
    }
   },
   "outputs": [],
   "source": [
    "g = gte.Graph(directed=False)"
   ]
  },
  {
   "cell_type": "code",
   "execution_count": 10,
   "id": "51386696-159a-4ca9-a8f1-faf5798c597d",
   "metadata": {
    "execution": {
     "iopub.execute_input": "2023-09-15T19:09:33.099778Z",
     "iopub.status.busy": "2023-09-15T19:09:33.098728Z",
     "iopub.status.idle": "2023-09-15T19:09:40.019982Z",
     "shell.execute_reply": "2023-09-15T19:09:40.019221Z",
     "shell.execute_reply.started": "2023-09-15T19:09:33.099744Z"
    }
   },
   "outputs": [],
   "source": [
    "with open(EDGES_FILE_PATH) as file:\n",
    "\n",
    "    next(file)\n",
    "    \n",
    "    for line in file:\n",
    "        parts = line.split(',')\n",
    "\n",
    "        author_a = parts[0]\n",
    "        author_b = parts[1].replace('\\n', '')\n",
    "        \n",
    "        vertex_a = get_or_add_vertex(g, author_a)\n",
    "        vertex_b = get_or_add_vertex(g, author_b)\n",
    "        edge = get_or_add_edge(g, author_a, author_b)"
   ]
  },
  {
   "cell_type": "code",
   "execution_count": 11,
   "id": "017181be-68e4-4e02-9fbe-2e6f42335961",
   "metadata": {
    "execution": {
     "iopub.execute_input": "2023-09-15T19:09:40.914815Z",
     "iopub.status.busy": "2023-09-15T19:09:40.914512Z",
     "iopub.status.idle": "2023-09-15T19:09:41.163604Z",
     "shell.execute_reply": "2023-09-15T19:09:41.162969Z",
     "shell.execute_reply.started": "2023-09-15T19:09:40.914797Z"
    }
   },
   "outputs": [],
   "source": [
    "g = gte.clean(g)"
   ]
  },
  {
   "cell_type": "code",
   "execution_count": 12,
   "id": "58f23076-b324-4a4d-a73f-c75d6370129f",
   "metadata": {
    "execution": {
     "iopub.execute_input": "2023-09-15T19:09:42.146935Z",
     "iopub.status.busy": "2023-09-15T19:09:42.146595Z",
     "iopub.status.idle": "2023-09-15T19:09:54.502087Z",
     "shell.execute_reply": "2023-09-15T19:09:54.501223Z",
     "shell.execute_reply.started": "2023-09-15T19:09:42.146912Z"
    }
   },
   "outputs": [],
   "source": [
    "gte.save(g, 'github_social.net.gz')"
   ]
  },
  {
   "cell_type": "markdown",
   "id": "2007fcb0-e3f6-4a21-89a9-9056b6f06135",
   "metadata": {},
   "source": [
    "## Configuring the layout and rendering the network"
   ]
  },
  {
   "cell_type": "code",
   "execution_count": 13,
   "id": "6e00504a-1776-4b37-9868-89ca4c5e214b",
   "metadata": {
    "execution": {
     "iopub.execute_input": "2023-09-15T19:09:56.326787Z",
     "iopub.status.busy": "2023-09-15T19:09:56.326517Z",
     "iopub.status.idle": "2023-09-15T19:09:57.276764Z",
     "shell.execute_reply": "2023-09-15T19:09:57.276230Z",
     "shell.execute_reply.started": "2023-09-15T19:09:56.326769Z"
    }
   },
   "outputs": [
    {
     "data": {
      "text/html": [
       "\n",
       "    <script src=\"/static/.hidden/netpixi.min.js\"></script>\n"
      ],
      "text/plain": [
       "<IPython.core.display.HTML object>"
      ]
     },
     "metadata": {},
     "output_type": "display_data"
    }
   ],
   "source": [
    "from graph_tool import draw\n",
    "import netpixi"
   ]
  },
  {
   "cell_type": "code",
   "execution_count": 14,
   "id": "6578e088-7675-4f8b-bc6f-b344775fa138",
   "metadata": {
    "execution": {
     "iopub.execute_input": "2023-09-15T19:10:01.843387Z",
     "iopub.status.busy": "2023-09-15T19:10:01.842956Z",
     "iopub.status.idle": "2023-09-15T19:12:41.151980Z",
     "shell.execute_reply": "2023-09-15T19:12:41.150968Z",
     "shell.execute_reply.started": "2023-09-15T19:10:01.843362Z"
    }
   },
   "outputs": [],
   "source": [
    "layout = draw.sfdp_layout(g)"
   ]
  },
  {
   "cell_type": "code",
   "execution_count": 15,
   "id": "6b9e2bf3-7bfd-40eb-8690-6880de42d0e2",
   "metadata": {
    "execution": {
     "iopub.execute_input": "2023-09-15T19:12:41.153836Z",
     "iopub.status.busy": "2023-09-15T19:12:41.153681Z",
     "iopub.status.idle": "2023-09-15T19:12:41.924063Z",
     "shell.execute_reply": "2023-09-15T19:12:41.923260Z",
     "shell.execute_reply.started": "2023-09-15T19:12:41.153824Z"
    }
   },
   "outputs": [],
   "source": [
    "gte.move(g, layout)"
   ]
  },
  {
   "cell_type": "code",
   "execution_count": 16,
   "id": "2a03fbf6-d32c-4db9-b6a3-038f06b39839",
   "metadata": {
    "execution": {
     "iopub.execute_input": "2023-09-15T19:12:41.925102Z",
     "iopub.status.busy": "2023-09-15T19:12:41.924865Z",
     "iopub.status.idle": "2023-09-15T19:12:53.241320Z",
     "shell.execute_reply": "2023-09-15T19:12:53.240666Z",
     "shell.execute_reply.started": "2023-09-15T19:12:41.925078Z"
    }
   },
   "outputs": [],
   "source": [
    "gte.save(g, 'github_social_layout.net.gz')"
   ]
  },
  {
   "cell_type": "code",
   "execution_count": 17,
   "id": "544a69dd-5a60-4c65-90e9-c06087ad0167",
   "metadata": {
    "execution": {
     "iopub.execute_input": "2023-09-15T19:12:53.242641Z",
     "iopub.status.busy": "2023-09-15T19:12:53.242411Z",
     "iopub.status.idle": "2023-09-15T19:12:53.250084Z",
     "shell.execute_reply": "2023-09-15T19:12:53.248775Z",
     "shell.execute_reply.started": "2023-09-15T19:12:53.242626Z"
    }
   },
   "outputs": [
    {
     "data": {
      "text/html": [
       "\n",
       "        <div id=\"FMuTqc24unm4b62BFVXJtF\"></div>\n",
       "        <script>netpixi.render('FMuTqc24unm4b62BFVXJtF', '/static/__shared__/redsoc-aps2/github_social_layout.net.gz', 1.7777777777777777, true, true, false, true);</script>\n",
       "    "
      ],
      "text/plain": [
       "<IPython.core.display.HTML object>"
      ]
     },
     "metadata": {},
     "output_type": "display_data"
    }
   ],
   "source": [
    "r = netpixi.render('github_social_layout.net.gz', infinite=True)"
   ]
  },
  {
   "cell_type": "markdown",
   "id": "3860136a-997e-402f-9917-12fdd7c59412",
   "metadata": {},
   "source": [
    "## Improving network vizualization"
   ]
  },
  {
   "cell_type": "code",
   "execution_count": 24,
   "id": "586d6e2e-bac0-4f75-b810-ade3464cbd8b",
   "metadata": {
    "execution": {
     "iopub.execute_input": "2023-09-15T19:14:06.319517Z",
     "iopub.status.busy": "2023-09-15T19:14:06.319208Z",
     "iopub.status.idle": "2023-09-15T19:14:06.325112Z",
     "shell.execute_reply": "2023-09-15T19:14:06.324313Z",
     "shell.execute_reply.started": "2023-09-15T19:14:06.319496Z"
    }
   },
   "outputs": [
    {
     "data": {
      "text/html": [
       "\n",
       "        <div id=\"hAuxHjvr9584NkgmEcsFvY\"></div>\n",
       "        <script>netpixi.call('hAuxHjvr9584NkgmEcsFvY', 'FMuTqc24unm4b62BFVXJtF', 'changeGraph', 'eyJ0eXBlIjogInNldHRpbmdzIiwgInByb3BzIjogeyJ2ZXJ0ZXgiOiB7InNpemUiOiAxLCAiY29sb3IiOiAxNjc0MjE0NCwgImJ3aWR0aCI6IDAuMiwgImJjb2xvciI6IDI1NX19fQo=');</script>\n",
       "    "
      ],
      "text/plain": [
       "<IPython.core.display.HTML object>"
      ]
     },
     "metadata": {},
     "output_type": "display_data"
    }
   ],
   "source": [
    "r.vertex_default(\n",
    "    size=1,\n",
    "    color=0xff7700,\n",
    "    bwidth=0.2,\n",
    "    bcolor=0x0000ff,\n",
    ")"
   ]
  },
  {
   "cell_type": "code",
   "execution_count": 19,
   "id": "d26f15c6-d02e-4fa4-85a0-1a58033900b6",
   "metadata": {
    "execution": {
     "iopub.execute_input": "2023-09-15T19:13:07.521323Z",
     "iopub.status.busy": "2023-09-15T19:13:07.520894Z",
     "iopub.status.idle": "2023-09-15T19:13:07.527436Z",
     "shell.execute_reply": "2023-09-15T19:13:07.526599Z",
     "shell.execute_reply.started": "2023-09-15T19:13:07.521292Z"
    }
   },
   "outputs": [
    {
     "data": {
      "text/html": [
       "\n",
       "        <div id=\"3t3nyT6S98og3Gt7J56FPQ\"></div>\n",
       "        <script>netpixi.call('3t3nyT6S98og3Gt7J56FPQ', 'FMuTqc24unm4b62BFVXJtF', 'changeGraph', 'eyJ0eXBlIjogInNldHRpbmdzIiwgInByb3BzIjogeyJlZGdlIjogeyJ3aWR0aCI6IDAuMiwgImNvbG9yIjogMTY3NzcyMTUsICJjdXJ2ZTEiOiAwLCAiY3VydmUyIjogMH19fQo=');</script>\n",
       "    "
      ],
      "text/plain": [
       "<IPython.core.display.HTML object>"
      ]
     },
     "metadata": {},
     "output_type": "display_data"
    }
   ],
   "source": [
    "r.edge_default(\n",
    "    width=0.2,\n",
    "    color=0xffffff,\n",
    "    curve1=0,\n",
    "    curve2=0,\n",
    ")"
   ]
  },
  {
   "cell_type": "markdown",
   "id": "4603ae38-dadb-4284-be5a-6edc72310fce",
   "metadata": {},
   "source": [
    "## Analyzing the network"
   ]
  },
  {
   "cell_type": "code",
   "execution_count": 25,
   "id": "f38bc0bc-c416-42b6-89f5-abed6d212aa3",
   "metadata": {
    "execution": {
     "iopub.execute_input": "2023-09-15T19:14:24.245664Z",
     "iopub.status.busy": "2023-09-15T19:14:24.245378Z",
     "iopub.status.idle": "2023-09-15T19:14:24.250181Z",
     "shell.execute_reply": "2023-09-15T19:14:24.249379Z",
     "shell.execute_reply.started": "2023-09-15T19:14:24.245642Z"
    }
   },
   "outputs": [
    {
     "data": {
      "text/plain": [
       "0.04"
      ]
     },
     "execution_count": 25,
     "metadata": {},
     "output_type": "execute_result"
    }
   ],
   "source": [
    "g.density()"
   ]
  },
  {
   "cell_type": "code",
   "execution_count": 26,
   "id": "5b3690c0-5a81-480b-9efd-ddde9fd0541c",
   "metadata": {
    "execution": {
     "iopub.execute_input": "2023-09-15T19:14:25.001377Z",
     "iopub.status.busy": "2023-09-15T19:14:25.001101Z",
     "iopub.status.idle": "2023-09-15T19:14:25.137686Z",
     "shell.execute_reply": "2023-09-15T19:14:25.137027Z",
     "shell.execute_reply.started": "2023-09-15T19:14:25.001359Z"
    }
   },
   "outputs": [
    {
     "data": {
      "text/plain": [
       "1.24"
      ]
     },
     "execution_count": 26,
     "metadata": {},
     "output_type": "execute_result"
    }
   ],
   "source": [
    "g.transitivity()"
   ]
  },
  {
   "cell_type": "code",
   "execution_count": 27,
   "id": "e149e83b-e4b7-4d7d-ab71-cdc70481ee8a",
   "metadata": {
    "execution": {
     "iopub.execute_input": "2023-09-15T19:14:25.535764Z",
     "iopub.status.busy": "2023-09-15T19:14:25.535128Z",
     "iopub.status.idle": "2023-09-15T19:14:25.540624Z",
     "shell.execute_reply": "2023-09-15T19:14:25.539818Z",
     "shell.execute_reply.started": "2023-09-15T19:14:25.535737Z"
    }
   },
   "outputs": [],
   "source": [
    "degrees = g.get_total_degrees()"
   ]
  },
  {
   "cell_type": "code",
   "execution_count": 28,
   "id": "a5f5a5f3-6434-45f5-9134-f8fd4adc2a12",
   "metadata": {
    "execution": {
     "iopub.execute_input": "2023-09-15T19:14:26.142140Z",
     "iopub.status.busy": "2023-09-15T19:14:26.141801Z",
     "iopub.status.idle": "2023-09-15T19:14:26.154157Z",
     "shell.execute_reply": "2023-09-15T19:14:26.153143Z",
     "shell.execute_reply.started": "2023-09-15T19:14:26.142121Z"
    }
   },
   "outputs": [
    {
     "data": {
      "text/plain": [
       "count    37700.000000\n",
       "mean        15.331724\n",
       "std         80.788102\n",
       "min          1.000000\n",
       "25%          2.000000\n",
       "50%          6.000000\n",
       "75%         13.000000\n",
       "max       9458.000000\n",
       "dtype: float64"
      ]
     },
     "execution_count": 28,
     "metadata": {},
     "output_type": "execute_result"
    }
   ],
   "source": [
    "degrees.describe()"
   ]
  },
  {
   "cell_type": "code",
   "execution_count": 29,
   "id": "81e61dec-aa62-43d6-a0a6-3df310bf274b",
   "metadata": {
    "execution": {
     "iopub.execute_input": "2023-09-15T19:14:27.033874Z",
     "iopub.status.busy": "2023-09-15T19:14:27.033129Z",
     "iopub.status.idle": "2023-09-15T19:14:27.390709Z",
     "shell.execute_reply": "2023-09-15T19:14:27.389928Z",
     "shell.execute_reply.started": "2023-09-15T19:14:27.033848Z"
    }
   },
   "outputs": [
    {
     "data": {
      "image/png": "[encoded data removed]",
      "text/plain": [
       "<Figure size 640x480 with 1 Axes>"
      ]
     },
     "metadata": {},
     "output_type": "display_data"
    }
   ],
   "source": [
    "degrees.hist();"
   ]
  },
  {
   "cell_type": "code",
   "execution_count": 30,
   "id": "e32f3cf5-d236-4bd1-b35d-33e28f3bc996",
   "metadata": {
    "execution": {
     "iopub.execute_input": "2023-09-15T19:14:28.091884Z",
     "iopub.status.busy": "2023-09-15T19:14:28.091604Z",
     "iopub.status.idle": "2023-09-15T19:14:28.099997Z",
     "shell.execute_reply": "2023-09-15T19:14:28.099220Z",
     "shell.execute_reply.started": "2023-09-15T19:14:28.091866Z"
    }
   },
   "outputs": [
    {
     "data": {
      "text/plain": [
       "0.0"
      ]
     },
     "execution_count": 30,
     "metadata": {},
     "output_type": "execute_result"
    }
   ],
   "source": [
    "dst.not_normal(degrees)"
   ]
  },
  {
   "cell_type": "code",
   "execution_count": 31,
   "id": "f19202bc-8d05-4a23-93a4-45b0ef4a8e90",
   "metadata": {
    "execution": {
     "iopub.execute_input": "2023-09-15T19:14:28.978579Z",
     "iopub.status.busy": "2023-09-15T19:14:28.978251Z",
     "iopub.status.idle": "2023-09-15T19:14:29.175400Z",
     "shell.execute_reply": "2023-09-15T19:14:29.174345Z",
     "shell.execute_reply.started": "2023-09-15T19:14:28.978561Z"
    }
   },
   "outputs": [
    {
     "name": "stdout",
     "output_type": "stream",
     "text": [
      "Calculating best minimal value for power law fit\n",
      "xmin progress: 99%\r"
     ]
    },
    {
     "name": "stderr",
     "output_type": "stream",
     "text": [
      "/usr/local/lib/python3.11/site-packages/powerlaw.py:1615: RuntimeWarning: invalid value encountered in divide\n",
      "  CDF = CDF/norm\n",
      "'nan' in fit cumulative distribution values.\n",
      "Likely underflow or overflow error: the optimal fit for this distribution gives values that are so extreme that we lack the numerical precision to calculate them.\n"
     ]
    },
    {
     "data": {
      "text/plain": [
       "(False, 0.13056102246262724)"
      ]
     },
     "execution_count": 31,
     "metadata": {},
     "output_type": "execute_result"
    }
   ],
   "source": [
    "dst.more_powerlaw_than_lognormal(degrees)"
   ]
  },
  {
   "cell_type": "code",
   "execution_count": 32,
   "id": "f54b3482-8cc2-4512-8008-de9cd0918381",
   "metadata": {
    "execution": {
     "iopub.execute_input": "2023-09-15T19:14:30.116289Z",
     "iopub.status.busy": "2023-09-15T19:14:30.115836Z",
     "iopub.status.idle": "2023-09-15T19:14:30.173350Z",
     "shell.execute_reply": "2023-09-15T19:14:30.172202Z",
     "shell.execute_reply.started": "2023-09-15T19:14:30.116265Z"
    }
   },
   "outputs": [
    {
     "name": "stdout",
     "output_type": "stream",
     "text": [
      "Calculating best minimal value for power law fit\n",
      "xmin progress: 99%\r"
     ]
    },
    {
     "data": {
      "text/plain": [
       "(True, 1.8242293151011604e-07)"
      ]
     },
     "execution_count": 32,
     "metadata": {},
     "output_type": "execute_result"
    }
   ],
   "source": [
    "dst.more_powerlaw_than_exponential(degrees)"
   ]
  },
  {
   "cell_type": "code",
   "execution_count": null,
   "id": "ed97dd82-3e51-442b-91c6-0e85c6d55f4b",
   "metadata": {},
   "outputs": [],
   "source": [
    "distances = g.get_distances()"
   ]
  },
  {
   "cell_type": "code",
   "execution_count": null,
   "id": "4de48b9b-3876-431f-983d-1c4eecb9a3c8",
   "metadata": {},
   "outputs": [],
   "source": [
    "distances.describe()"
   ]
  },
  {
   "cell_type": "code",
   "execution_count": null,
   "id": "a58b68db-0d5d-41f7-a02f-9caef1c6665d",
   "metadata": {},
   "outputs": [],
   "source": [
    "distances.hist();"
   ]
  },
  {
   "cell_type": "code",
   "execution_count": null,
   "id": "f00c66ae-8eae-4528-997f-61dac97484c4",
   "metadata": {},
   "outputs": [],
   "source": [
    "log(g.num_vertices())"
   ]
  },
  {
   "cell_type": "code",
   "execution_count": null,
   "id": "d7fc824e-f835-4606-ac3b-018781b7b103",
   "metadata": {},
   "outputs": [],
   "source": []
  }
 ],
 "metadata": {
  "kernelspec": {
   "display_name": "Python 3 (ipykernel)",
   "language": "python",
   "name": "python3"
  },
  "language_info": {
   "codemirror_mode": {
    "name": "ipython",
    "version": 3
   },
   "file_extension": ".py",
   "mimetype": "text/x-python",
   "name": "python",
   "nbconvert_exporter": "python",
   "pygments_lexer": "ipython3",
   "version": "3.11.5"
  }
 },
 "nbformat": 4,
 "nbformat_minor": 5
}
