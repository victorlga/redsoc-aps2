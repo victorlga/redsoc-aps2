{
 "cells": [
  {
   "cell_type": "markdown",
   "id": "7356e2d7-6504-485a-af60-93126f4ba239",
   "metadata": {},
   "source": [
    "# Building and analysing a XXX network"
   ]
  },
  {
   "cell_type": "code",
   "execution_count": 12,
   "id": "5a2685ca-0a75-4866-a8e6-e30ae77bdb37",
   "metadata": {
    "execution": {
     "iopub.execute_input": "2023-09-14T13:58:54.066561Z",
     "iopub.status.busy": "2023-09-14T13:58:54.064822Z",
     "iopub.status.idle": "2023-09-14T13:58:54.071906Z",
     "shell.execute_reply": "2023-09-14T13:58:54.070772Z",
     "shell.execute_reply.started": "2023-09-14T13:58:54.066502Z"
    }
   },
   "outputs": [],
   "source": [
    "import graph_tool_extras as gte\n",
    "from pathlib import Path"
   ]
  },
  {
   "cell_type": "markdown",
   "id": "cdb9be19-a3ee-4926-b1d2-e2c8c43dc672",
   "metadata": {},
   "source": [
    "## Introduction"
   ]
  },
  {
   "cell_type": "markdown",
   "id": "c7e50b3d-36ef-431a-8283-2ae1c9f8d131",
   "metadata": {},
   "source": [
    "In this notebook, a network of co-authorship of papers about condensed matter authors was built. The database in the file below is used. It's from the Stanford Network Analysis Project's dataset at https://networks.skewed.de/net/arxiv_authors#CondMat_draw."
   ]
  },
  {
   "cell_type": "code",
   "execution_count": 35,
   "id": "7eb99007-ccd3-4fa6-9729-9f739c695cc1",
   "metadata": {
    "execution": {
     "iopub.execute_input": "2023-09-14T14:26:52.739473Z",
     "iopub.status.busy": "2023-09-14T14:26:52.738520Z",
     "iopub.status.idle": "2023-09-14T14:26:52.745695Z",
     "shell.execute_reply": "2023-09-14T14:26:52.744567Z",
     "shell.execute_reply.started": "2023-09-14T14:26:52.739427Z"
    }
   },
   "outputs": [],
   "source": [
    "FOLDER_PATH = Path.cwd() / 'CondMat.csv'\n",
    "EDGES_FILE_PATH = FOLDER_PATH / 'edges.csv'"
   ]
  },
  {
   "cell_type": "markdown",
   "id": "c5caf39a-4d2c-4b7e-a74e-1b596c064f4f",
   "metadata": {},
   "source": [
    "## Understanding the data"
   ]
  },
  {
   "cell_type": "markdown",
   "id": "85703717-95e7-4b8e-90a0-7fb20bda5902",
   "metadata": {},
   "source": [
    "| Concept of vertices                                                                                                 | Concept of edges                                                                                                                             | Operationalization of vertices                                                                                                                                                                                                                                                           | Operationalization of edges                                                                                                                                                                                                                                                  |\n",
    "|---------------------------------------------------------------------------------------------------------------------|---------------------------------------------------------------------------------------------------------------------------------------------|----------------------------------------------------------------------------------------------------------------------------------------------------------------------------------------------------------------------------------------------------------------------------------------|-----------------------------------------------------------------------------------------------------------------------------------------------------------------------------------------------------------------------------------------------------------------------------|\n",
    "| Authors                                                                                                             | An edge between i and j indicates co-authorship between i and j.                                                                           | Each vertex represents an author of a paper in the cond-mat category on the arXiv platform. The data was collected from January 1993 to April 2003.                                                                                                                                 | An edge between authors i and j indicates a co-authorship relationship between them. In cases where other k authors also contributed to the production of the paper, these additional k authors are connected to both authors i and j, as well as to each other, through edges. |\n"
   ]
  },
  {
   "cell_type": "markdown",
   "id": "952e8d46-02d4-4cce-92b7-9fcdca7381d6",
   "metadata": {},
   "source": [
    "## Creating functions to build the network"
   ]
  },
  {
   "cell_type": "code",
   "execution_count": 36,
   "id": "e8548565-eb98-4d8e-b88c-5606b90d0a48",
   "metadata": {
    "execution": {
     "iopub.execute_input": "2023-09-14T14:26:54.924982Z",
     "iopub.status.busy": "2023-09-14T14:26:54.923637Z",
     "iopub.status.idle": "2023-09-14T14:26:54.931118Z",
     "shell.execute_reply": "2023-09-14T14:26:54.929908Z",
     "shell.execute_reply.started": "2023-09-14T14:26:54.924932Z"
    }
   },
   "outputs": [],
   "source": [
    "def get_or_add_vertex(g, id):\n",
    "    u = g.vertex_by_id(id)\n",
    "    if u is None:\n",
    "        u = g.add_vertex_by_id(id)\n",
    "    return u"
   ]
  },
  {
   "cell_type": "code",
   "execution_count": 37,
   "id": "2b7c4621-fd32-40db-8972-6a65bbd64fe6",
   "metadata": {
    "execution": {
     "iopub.execute_input": "2023-09-14T14:26:57.048711Z",
     "iopub.status.busy": "2023-09-14T14:26:57.047432Z",
     "iopub.status.idle": "2023-09-14T14:26:57.055275Z",
     "shell.execute_reply": "2023-09-14T14:26:57.054022Z",
     "shell.execute_reply.started": "2023-09-14T14:26:57.048653Z"
    }
   },
   "outputs": [],
   "source": [
    "def get_or_add_edge(g, author_a, author_b):\n",
    "    e = g.edge_by_ids(author_a, author_b)\n",
    "    if e is None:\n",
    "        e = g.add_edge_by_ids(author_a, author_b)\n",
    "    return e"
   ]
  },
  {
   "cell_type": "markdown",
   "id": "89c46a52-7637-4cc2-a328-4ea2419e46b8",
   "metadata": {},
   "source": [
    "## Reading the data and building the network"
   ]
  },
  {
   "cell_type": "code",
   "execution_count": 38,
   "id": "0f1dc392-21ed-4adb-8d27-49ab0526512a",
   "metadata": {
    "execution": {
     "iopub.execute_input": "2023-09-14T14:26:58.020855Z",
     "iopub.status.busy": "2023-09-14T14:26:58.020259Z",
     "iopub.status.idle": "2023-09-14T14:26:58.023034Z",
     "shell.execute_reply": "2023-09-14T14:26:58.022621Z",
     "shell.execute_reply.started": "2023-09-14T14:26:58.020836Z"
    }
   },
   "outputs": [],
   "source": [
    "g = gte.Graph(directed=False)"
   ]
  },
  {
   "cell_type": "code",
   "execution_count": 40,
   "id": "51386696-159a-4ca9-a8f1-faf5798c597d",
   "metadata": {
    "execution": {
     "iopub.execute_input": "2023-09-14T14:29:29.879727Z",
     "iopub.status.busy": "2023-09-14T14:29:29.878922Z",
     "iopub.status.idle": "2023-09-14T14:29:32.172754Z",
     "shell.execute_reply": "2023-09-14T14:29:32.172195Z",
     "shell.execute_reply.started": "2023-09-14T14:29:29.879660Z"
    }
   },
   "outputs": [],
   "source": [
    "with open(EDGES_FILE_PATH) as file:\n",
    "\n",
    "    next(file)\n",
    "    for line in file:\n",
    "        parts = line.split(',')\n",
    "\n",
    "        author_a = parts[0]\n",
    "        author_b = parts[1]\n",
    "        \n",
    "        vertex_a = get_or_add_vertex(g, author_a)\n",
    "        vertex_b = get_or_add_vertex(g, author_b)\n",
    "        edge = get_or_add_edge(g, author_a, author_b)"
   ]
  },
  {
   "cell_type": "code",
   "execution_count": 41,
   "id": "017181be-68e4-4e02-9fbe-2e6f42335961",
   "metadata": {
    "execution": {
     "iopub.execute_input": "2023-09-14T14:29:38.036535Z",
     "iopub.status.busy": "2023-09-14T14:29:38.036079Z",
     "iopub.status.idle": "2023-09-14T14:29:38.197790Z",
     "shell.execute_reply": "2023-09-14T14:29:38.197137Z",
     "shell.execute_reply.started": "2023-09-14T14:29:38.036514Z"
    }
   },
   "outputs": [],
   "source": [
    "g = gte.clean(g)"
   ]
  },
  {
   "cell_type": "code",
   "execution_count": 42,
   "id": "58f23076-b324-4a4d-a73f-c75d6370129f",
   "metadata": {
    "execution": {
     "iopub.execute_input": "2023-09-14T14:29:54.774624Z",
     "iopub.status.busy": "2023-09-14T14:29:54.773888Z",
     "iopub.status.idle": "2023-09-14T14:30:00.994909Z",
     "shell.execute_reply": "2023-09-14T14:30:00.994472Z",
     "shell.execute_reply.started": "2023-09-14T14:29:54.774559Z"
    }
   },
   "outputs": [],
   "source": [
    "gte.save(g, 'cond_mat_authors.net.gz')"
   ]
  },
  {
   "cell_type": "markdown",
   "id": "2007fcb0-e3f6-4a21-89a9-9056b6f06135",
   "metadata": {},
   "source": [
    "## Configuring the layout and rendering the network"
   ]
  },
  {
   "cell_type": "code",
   "execution_count": 43,
   "id": "6e00504a-1776-4b37-9868-89ca4c5e214b",
   "metadata": {
    "execution": {
     "iopub.execute_input": "2023-09-14T14:30:02.776694Z",
     "iopub.status.busy": "2023-09-14T14:30:02.776483Z",
     "iopub.status.idle": "2023-09-14T14:30:04.081132Z",
     "shell.execute_reply": "2023-09-14T14:30:04.080553Z",
     "shell.execute_reply.started": "2023-09-14T14:30:02.776679Z"
    }
   },
   "outputs": [
    {
     "data": {
      "text/html": [
       "\n",
       "    <script src=\"/static/.hidden/netpixi.min.js\"></script>\n"
      ],
      "text/plain": [
       "<IPython.core.display.HTML object>"
      ]
     },
     "metadata": {},
     "output_type": "display_data"
    }
   ],
   "source": [
    "from graph_tool import draw\n",
    "import netpixi"
   ]
  },
  {
   "cell_type": "code",
   "execution_count": 44,
   "id": "6578e088-7675-4f8b-bc6f-b344775fa138",
   "metadata": {
    "execution": {
     "iopub.execute_input": "2023-09-14T14:30:04.082339Z",
     "iopub.status.busy": "2023-09-14T14:30:04.082007Z",
     "iopub.status.idle": "2023-09-14T14:33:28.985246Z",
     "shell.execute_reply": "2023-09-14T14:33:28.984691Z",
     "shell.execute_reply.started": "2023-09-14T14:30:04.082321Z"
    }
   },
   "outputs": [],
   "source": [
    "layout = draw.sfdp_layout(g)"
   ]
  },
  {
   "cell_type": "code",
   "execution_count": 45,
   "id": "6b9e2bf3-7bfd-40eb-8690-6880de42d0e2",
   "metadata": {
    "execution": {
     "iopub.execute_input": "2023-09-14T14:33:28.987375Z",
     "iopub.status.busy": "2023-09-14T14:33:28.986893Z",
     "iopub.status.idle": "2023-09-14T14:33:29.935563Z",
     "shell.execute_reply": "2023-09-14T14:33:29.934895Z",
     "shell.execute_reply.started": "2023-09-14T14:33:28.987355Z"
    }
   },
   "outputs": [],
   "source": [
    "gte.move(g, layout)"
   ]
  },
  {
   "cell_type": "code",
   "execution_count": 46,
   "id": "2a03fbf6-d32c-4db9-b6a3-038f06b39839",
   "metadata": {
    "execution": {
     "iopub.execute_input": "2023-09-14T14:33:29.936751Z",
     "iopub.status.busy": "2023-09-14T14:33:29.936517Z",
     "iopub.status.idle": "2023-09-14T14:33:38.696204Z",
     "shell.execute_reply": "2023-09-14T14:33:38.695703Z",
     "shell.execute_reply.started": "2023-09-14T14:33:29.936728Z"
    }
   },
   "outputs": [],
   "source": [
    "gte.save(g, 'cond_mat_authors_layout.net.gz')"
   ]
  },
  {
   "cell_type": "code",
   "execution_count": 47,
   "id": "544a69dd-5a60-4c65-90e9-c06087ad0167",
   "metadata": {
    "execution": {
     "iopub.execute_input": "2023-09-14T14:33:38.697200Z",
     "iopub.status.busy": "2023-09-14T14:33:38.697048Z",
     "iopub.status.idle": "2023-09-14T14:33:38.704945Z",
     "shell.execute_reply": "2023-09-14T14:33:38.704163Z",
     "shell.execute_reply.started": "2023-09-14T14:33:38.697187Z"
    }
   },
   "outputs": [
    {
     "data": {
      "text/html": [
       "\n",
       "        <div id=\"Vf9nG6tfLjTe4RQPEd3KCT\"></div>\n",
       "        <script>netpixi.render('Vf9nG6tfLjTe4RQPEd3KCT', '/static/__shared__/redsoc-aps2/cond_mat_authors_layout.net.gz', 1.7777777777777777, true, true, false, true);</script>\n",
       "    "
      ],
      "text/plain": [
       "<IPython.core.display.HTML object>"
      ]
     },
     "metadata": {},
     "output_type": "display_data"
    }
   ],
   "source": [
    "r = netpixi.render('cond_mat_authors_layout.net.gz', infinite=True)"
   ]
  },
  {
   "cell_type": "markdown",
   "id": "3860136a-997e-402f-9917-12fdd7c59412",
   "metadata": {},
   "source": [
    "## Improving network vizualization"
   ]
  },
  {
   "cell_type": "code",
   "execution_count": 51,
   "id": "586d6e2e-bac0-4f75-b810-ade3464cbd8b",
   "metadata": {
    "execution": {
     "iopub.execute_input": "2023-09-14T14:36:49.030732Z",
     "iopub.status.busy": "2023-09-14T14:36:49.030240Z",
     "iopub.status.idle": "2023-09-14T14:36:49.034742Z",
     "shell.execute_reply": "2023-09-14T14:36:49.034223Z",
     "shell.execute_reply.started": "2023-09-14T14:36:49.030715Z"
    }
   },
   "outputs": [
    {
     "data": {
      "text/html": [
       "\n",
       "        <div id=\"VSv7sqmF27borDWDnUTgGP\"></div>\n",
       "        <script>netpixi.call('VSv7sqmF27borDWDnUTgGP', 'Vf9nG6tfLjTe4RQPEd3KCT', 'changeGraph', 'eyJ0eXBlIjogInNldHRpbmdzIiwgInByb3BzIjogeyJ2ZXJ0ZXgiOiB7InNpemUiOiAxLCAiY29sb3IiOiAxNjcxMTY4MCwgImJ3aWR0aCI6IDEsICJiY29sb3IiOiAzMDQ2NH19fQo=');</script>\n",
       "    "
      ],
      "text/plain": [
       "<IPython.core.display.HTML object>"
      ]
     },
     "metadata": {},
     "output_type": "display_data"
    }
   ],
   "source": [
    "r.vertex_default(\n",
    "    size=1,\n",
    "    color=0xff0000,\n",
    "    bwidth=1,\n",
    "    bcolor=0x007700,\n",
    ")"
   ]
  },
  {
   "cell_type": "code",
   "execution_count": 50,
   "id": "d26f15c6-d02e-4fa4-85a0-1a58033900b6",
   "metadata": {
    "execution": {
     "iopub.execute_input": "2023-09-14T14:34:39.549785Z",
     "iopub.status.busy": "2023-09-14T14:34:39.549317Z",
     "iopub.status.idle": "2023-09-14T14:34:39.553720Z",
     "shell.execute_reply": "2023-09-14T14:34:39.553023Z",
     "shell.execute_reply.started": "2023-09-14T14:34:39.549767Z"
    }
   },
   "outputs": [
    {
     "data": {
      "text/html": [
       "\n",
       "        <div id=\"5Y5FwyABPbEPVXRDK84Cpc\"></div>\n",
       "        <script>netpixi.call('5Y5FwyABPbEPVXRDK84Cpc', 'Vf9nG6tfLjTe4RQPEd3KCT', 'changeGraph', 'eyJ0eXBlIjogInNldHRpbmdzIiwgInByb3BzIjogeyJlZGdlIjogeyJ3aWR0aCI6IDAuMiwgImNvbG9yIjogNzgyOTUwMywgImN1cnZlMSI6IDAsICJjdXJ2ZTIiOiAwfX19Cg==');</script>\n",
       "    "
      ],
      "text/plain": [
       "<IPython.core.display.HTML object>"
      ]
     },
     "metadata": {},
     "output_type": "display_data"
    }
   ],
   "source": [
    "r.edge_default(\n",
    "    width=0.2,\n",
    "    color=0x7777ff,\n",
    "    curve1=0,\n",
    "    curve2=0,\n",
    ")"
   ]
  },
  {
   "cell_type": "markdown",
   "id": "4603ae38-dadb-4284-be5a-6edc72310fce",
   "metadata": {},
   "source": [
    "## Analyzing the network"
   ]
  },
  {
   "cell_type": "code",
   "execution_count": null,
   "id": "5b3690c0-5a81-480b-9efd-ddde9fd0541c",
   "metadata": {},
   "outputs": [],
   "source": []
  }
 ],
 "metadata": {
  "kernelspec": {
   "display_name": "Python 3 (ipykernel)",
   "language": "python",
   "name": "python3"
  },
  "language_info": {
   "codemirror_mode": {
    "name": "ipython",
    "version": 3
   },
   "file_extension": ".py",
   "mimetype": "text/x-python",
   "name": "python",
   "nbconvert_exporter": "python",
   "pygments_lexer": "ipython3",
   "version": "3.11.5"
  }
 },
 "nbformat": 4,
 "nbformat_minor": 5
}
