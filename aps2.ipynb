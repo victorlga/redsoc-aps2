{
 "cells": [
  {
   "cell_type": "markdown",
   "id": "7356e2d7-6504-485a-af60-93126f4ba239",
   "metadata": {},
   "source": [
    "# Building and analysing a XXX network"
   ]
  },
  {
   "cell_type": "code",
   "execution_count": 28,
   "id": "5a2685ca-0a75-4866-a8e6-e30ae77bdb37",
   "metadata": {
    "execution": {
     "iopub.execute_input": "2023-09-14T14:30:18.662873Z",
     "iopub.status.busy": "2023-09-14T14:30:18.662118Z",
     "iopub.status.idle": "2023-09-14T14:30:18.666879Z",
     "shell.execute_reply": "2023-09-14T14:30:18.665868Z",
     "shell.execute_reply.started": "2023-09-14T14:30:18.662828Z"
    }
   },
   "outputs": [],
   "source": [
    "import graph_tool_extras as gte"
   ]
  },
  {
   "cell_type": "markdown",
   "id": "cdb9be19-a3ee-4926-b1d2-e2c8c43dc672",
   "metadata": {},
   "source": [
    "## Introduction"
   ]
  },
  {
   "cell_type": "markdown",
   "id": "c7e50b3d-36ef-431a-8283-2ae1c9f8d131",
   "metadata": {},
   "source": []
  },
  {
   "cell_type": "code",
   "execution_count": 29,
   "id": "7eb99007-ccd3-4fa6-9729-9f739c695cc1",
   "metadata": {
    "execution": {
     "iopub.execute_input": "2023-09-14T14:30:21.046255Z",
     "iopub.status.busy": "2023-09-14T14:30:21.045538Z",
     "iopub.status.idle": "2023-09-14T14:30:21.049973Z",
     "shell.execute_reply": "2023-09-14T14:30:21.048914Z",
     "shell.execute_reply.started": "2023-09-14T14:30:21.046231Z"
    }
   },
   "outputs": [],
   "source": [
    "PATH = 'edges.csv'"
   ]
  },
  {
   "cell_type": "markdown",
   "id": "c5caf39a-4d2c-4b7e-a74e-1b596c064f4f",
   "metadata": {},
   "source": [
    "## Understanding the data"
   ]
  },
  {
   "cell_type": "markdown",
   "id": "eb52fa9c-0aad-4f22-9755-0750e32b91aa",
   "metadata": {},
   "source": [
    "Concept of vertices:\r\n",
    "Authors\r\n",
    "\r\n",
    "Concept of edges:\r\n",
    "An edge between i and j indicates co-authorship between i and j.\r\n",
    "\r\n",
    "Operationalization of vertices:\r\n",
    "\r\n",
    "Each vertex represents an author of a paper in the cond-mat category (an area that studies condensed matter) on the arXiv platform. The data was collected from January 1993 to April 2003.\r\n",
    "\r\n",
    "Operationalization of edges:\r\n",
    "An edge between authors i and j indicates a co-authorship relationship between them. In cases where other k authors also contributed to the production of the paper, these additional k authors are connected to both authors i and j, as well as to each other, through edges."
   ]
  },
  {
   "cell_type": "markdown",
   "id": "952e8d46-02d4-4cce-92b7-9fcdca7381d6",
   "metadata": {},
   "source": [
    "## Creating functions to build the network"
   ]
  },
  {
   "cell_type": "code",
   "execution_count": 30,
   "id": "e8548565-eb98-4d8e-b88c-5606b90d0a48",
   "metadata": {
    "execution": {
     "iopub.execute_input": "2023-09-14T14:30:22.504939Z",
     "iopub.status.busy": "2023-09-14T14:30:22.504160Z",
     "iopub.status.idle": "2023-09-14T14:30:22.509187Z",
     "shell.execute_reply": "2023-09-14T14:30:22.508226Z",
     "shell.execute_reply.started": "2023-09-14T14:30:22.504912Z"
    }
   },
   "outputs": [],
   "source": [
    "def get_or_add_vertex(g, id):\n",
    "    u = g.vertex_by_id(id)\n",
    "    if u is None:\n",
    "        u = g.add_vertex_by_id(id)\n",
    "        # u['id'] = id\n",
    "    return u"
   ]
  },
  {
   "cell_type": "code",
   "execution_count": 31,
   "id": "2b7c4621-fd32-40db-8972-6a65bbd64fe6",
   "metadata": {
    "execution": {
     "iopub.execute_input": "2023-09-14T14:30:25.066558Z",
     "iopub.status.busy": "2023-09-14T14:30:25.065857Z",
     "iopub.status.idle": "2023-09-14T14:30:25.070782Z",
     "shell.execute_reply": "2023-09-14T14:30:25.069740Z",
     "shell.execute_reply.started": "2023-09-14T14:30:25.066534Z"
    }
   },
   "outputs": [],
   "source": [
    "def get_or_add_edge(g, author_a, author_b):\n",
    "    e = g.edge_by_ids(author_a, author_b)\n",
    "    if e is None:\n",
    "        e = g.add_edge_by_ids(author_a, author_b)\n",
    "        # e['master_net_id'] = master_net_id\n",
    "    return e"
   ]
  },
  {
   "cell_type": "markdown",
   "id": "89c46a52-7637-4cc2-a328-4ea2419e46b8",
   "metadata": {},
   "source": [
    "## Reading the data and building the network"
   ]
  },
  {
   "cell_type": "code",
   "execution_count": 32,
   "id": "0f1dc392-21ed-4adb-8d27-49ab0526512a",
   "metadata": {
    "execution": {
     "iopub.execute_input": "2023-09-14T14:30:27.159207Z",
     "iopub.status.busy": "2023-09-14T14:30:27.158649Z",
     "iopub.status.idle": "2023-09-14T14:30:27.168089Z",
     "shell.execute_reply": "2023-09-14T14:30:27.166948Z",
     "shell.execute_reply.started": "2023-09-14T14:30:27.159184Z"
    }
   },
   "outputs": [],
   "source": [
    "g = gte.Graph(directed=False)"
   ]
  },
  {
   "cell_type": "markdown",
   "id": "d08b4794-9dba-4823-b58e-92107623babc",
   "metadata": {
    "execution": {
     "iopub.execute_input": "2023-09-14T14:22:30.721610Z",
     "iopub.status.busy": "2023-09-14T14:22:30.721078Z",
     "iopub.status.idle": "2023-09-14T14:22:30.740031Z",
     "shell.execute_reply": "2023-09-14T14:22:30.738853Z",
     "shell.execute_reply.started": "2023-09-14T14:22:30.721589Z"
    }
   },
   "source": [
    "ADDING vertices"
   ]
  },
  {
   "cell_type": "code",
   "execution_count": 34,
   "id": "d8604c6b-385a-4385-ac5b-05581d700896",
   "metadata": {
    "execution": {
     "iopub.execute_input": "2023-09-14T14:30:31.622004Z",
     "iopub.status.busy": "2023-09-14T14:30:31.621713Z",
     "iopub.status.idle": "2023-09-14T14:30:36.803736Z",
     "shell.execute_reply": "2023-09-14T14:30:36.802905Z",
     "shell.execute_reply.started": "2023-09-14T14:30:31.621984Z"
    }
   },
   "outputs": [],
   "source": [
    "\n",
    "with open(PATH) as file:\n",
    "\n",
    "    next(file)\n",
    "\n",
    "    for line in file:\n",
    "        parts = line.split(',')\n",
    "\n",
    "        parts[1] = parts[1][:-1]\n",
    "        get_or_add_vertex(g,parts[0])\n",
    "        get_or_add_vertex(g,parts[1])\n",
    "        get_or_add_edge(g,parts[0],parts[1])\n"
   ]
  },
  {
   "cell_type": "code",
   "execution_count": 35,
   "id": "017181be-68e4-4e02-9fbe-2e6f42335961",
   "metadata": {
    "execution": {
     "iopub.execute_input": "2023-09-14T14:30:36.805884Z",
     "iopub.status.busy": "2023-09-14T14:30:36.805402Z",
     "iopub.status.idle": "2023-09-14T14:30:36.920731Z",
     "shell.execute_reply": "2023-09-14T14:30:36.919553Z",
     "shell.execute_reply.started": "2023-09-14T14:30:36.805864Z"
    }
   },
   "outputs": [],
   "source": [
    "g = gte.clean(g)"
   ]
  },
  {
   "cell_type": "code",
   "execution_count": 36,
   "id": "58f23076-b324-4a4d-a73f-c75d6370129f",
   "metadata": {
    "execution": {
     "iopub.execute_input": "2023-09-14T14:30:38.787119Z",
     "iopub.status.busy": "2023-09-14T14:30:38.786681Z",
     "iopub.status.idle": "2023-09-14T14:30:44.177749Z",
     "shell.execute_reply": "2023-09-14T14:30:44.176930Z",
     "shell.execute_reply.started": "2023-09-14T14:30:38.787099Z"
    }
   },
   "outputs": [],
   "source": [
    "gte.save(g, '.net.gz')"
   ]
  },
  {
   "cell_type": "markdown",
   "id": "2007fcb0-e3f6-4a21-89a9-9056b6f06135",
   "metadata": {},
   "source": [
    "## Configuring the layout and rendering the network"
   ]
  },
  {
   "cell_type": "code",
   "execution_count": 37,
   "id": "6e00504a-1776-4b37-9868-89ca4c5e214b",
   "metadata": {
    "execution": {
     "iopub.execute_input": "2023-09-14T14:30:44.179588Z",
     "iopub.status.busy": "2023-09-14T14:30:44.179253Z",
     "iopub.status.idle": "2023-09-14T14:30:45.641642Z",
     "shell.execute_reply": "2023-09-14T14:30:45.640657Z",
     "shell.execute_reply.started": "2023-09-14T14:30:44.179561Z"
    }
   },
   "outputs": [
    {
     "data": {
      "text/html": [
       "\n",
       "    <script src=\"/static/.hidden/netpixi.min.js\"></script>\n"
      ],
      "text/plain": [
       "<IPython.core.display.HTML object>"
      ]
     },
     "metadata": {},
     "output_type": "display_data"
    }
   ],
   "source": [
    "from graph_tool import draw\n",
    "import netpixi"
   ]
  },
  {
   "cell_type": "code",
   "execution_count": 38,
   "id": "6578e088-7675-4f8b-bc6f-b344775fa138",
   "metadata": {
    "execution": {
     "iopub.execute_input": "2023-09-14T14:30:46.581155Z",
     "iopub.status.busy": "2023-09-14T14:30:46.580311Z",
     "iopub.status.idle": "2023-09-14T14:31:39.105300Z",
     "shell.execute_reply": "2023-09-14T14:31:39.104323Z",
     "shell.execute_reply.started": "2023-09-14T14:30:46.581132Z"
    }
   },
   "outputs": [],
   "source": [
    "layout = draw.sfdp_layout(g)"
   ]
  },
  {
   "cell_type": "code",
   "execution_count": 39,
   "id": "6b9e2bf3-7bfd-40eb-8690-6880de42d0e2",
   "metadata": {
    "execution": {
     "iopub.execute_input": "2023-09-14T14:31:39.107334Z",
     "iopub.status.busy": "2023-09-14T14:31:39.107098Z",
     "iopub.status.idle": "2023-09-14T14:31:39.577171Z",
     "shell.execute_reply": "2023-09-14T14:31:39.576248Z",
     "shell.execute_reply.started": "2023-09-14T14:31:39.107315Z"
    }
   },
   "outputs": [],
   "source": [
    "gte.move(g, layout)"
   ]
  },
  {
   "cell_type": "code",
   "execution_count": 40,
   "id": "2a03fbf6-d32c-4db9-b6a3-038f06b39839",
   "metadata": {
    "execution": {
     "iopub.execute_input": "2023-09-14T14:31:39.578321Z",
     "iopub.status.busy": "2023-09-14T14:31:39.578066Z",
     "iopub.status.idle": "2023-09-14T14:31:45.992910Z",
     "shell.execute_reply": "2023-09-14T14:31:45.991725Z",
     "shell.execute_reply.started": "2023-09-14T14:31:39.578303Z"
    }
   },
   "outputs": [],
   "source": [
    "gte.save(g, '_layout.net.gz')"
   ]
  },
  {
   "cell_type": "code",
   "execution_count": 41,
   "id": "544a69dd-5a60-4c65-90e9-c06087ad0167",
   "metadata": {
    "execution": {
     "iopub.execute_input": "2023-09-14T14:31:45.996666Z",
     "iopub.status.busy": "2023-09-14T14:31:45.995763Z",
     "iopub.status.idle": "2023-09-14T14:31:46.007653Z",
     "shell.execute_reply": "2023-09-14T14:31:46.006338Z",
     "shell.execute_reply.started": "2023-09-14T14:31:45.996626Z"
    }
   },
   "outputs": [
    {
     "data": {
      "text/html": [
       "\n",
       "        <div id=\"nrBvYebAD3nsaUCUsjmxxd\"></div>\n",
       "        <script>netpixi.render('nrBvYebAD3nsaUCUsjmxxd', '/static/__shared__/redsoc-aps2/_layout.net.gz', 1.7777777777777777, true, true, false, true);</script>\n",
       "    "
      ],
      "text/plain": [
       "<IPython.core.display.HTML object>"
      ]
     },
     "metadata": {},
     "output_type": "display_data"
    }
   ],
   "source": [
    "r = netpixi.render('_layout.net.gz', infinite=True)"
   ]
  },
  {
   "cell_type": "markdown",
   "id": "3860136a-997e-402f-9917-12fdd7c59412",
   "metadata": {},
   "source": [
    "## Improving network vizualization"
   ]
  },
  {
   "cell_type": "code",
   "execution_count": 44,
   "id": "586d6e2e-bac0-4f75-b810-ade3464cbd8b",
   "metadata": {
    "execution": {
     "iopub.execute_input": "2023-09-14T14:32:50.784945Z",
     "iopub.status.busy": "2023-09-14T14:32:50.784326Z",
     "iopub.status.idle": "2023-09-14T14:32:50.792771Z",
     "shell.execute_reply": "2023-09-14T14:32:50.791667Z",
     "shell.execute_reply.started": "2023-09-14T14:32:50.784918Z"
    }
   },
   "outputs": [
    {
     "data": {
      "text/html": [
       "\n",
       "        <div id=\"i568dnPJnLaejGzXoqwFAx\"></div>\n",
       "        <script>netpixi.call('i568dnPJnLaejGzXoqwFAx', 'nrBvYebAD3nsaUCUsjmxxd', 'changeGraph', 'eyJ0eXBlIjogInNldHRpbmdzIiwgInByb3BzIjogeyJ2ZXJ0ZXgiOiB7InNpemUiOiA0LCAiY29sb3IiOiAxNjc3Njk2MCwgImJ3aWR0aCI6IDEsICJiY29sb3IiOiAzMDQ2NH19fQo=');</script>\n",
       "    "
      ],
      "text/plain": [
       "<IPython.core.display.HTML object>"
      ]
     },
     "metadata": {},
     "output_type": "display_data"
    }
   ],
   "source": [
    "r.vertex_default(\n",
    "    size=4,\n",
    "    color=0xffff00,\n",
    "    bwidth=1,\n",
    "    bcolor=0x007700,\n",
    ")"
   ]
  },
  {
   "cell_type": "code",
   "execution_count": 45,
   "id": "d26f15c6-d02e-4fa4-85a0-1a58033900b6",
   "metadata": {
    "execution": {
     "iopub.execute_input": "2023-09-14T14:32:53.478900Z",
     "iopub.status.busy": "2023-09-14T14:32:53.478198Z",
     "iopub.status.idle": "2023-09-14T14:32:53.485118Z",
     "shell.execute_reply": "2023-09-14T14:32:53.484017Z",
     "shell.execute_reply.started": "2023-09-14T14:32:53.478877Z"
    }
   },
   "outputs": [
    {
     "data": {
      "text/html": [
       "\n",
       "        <div id=\"jmB9EGPrWxgKr99M8i6Nt5\"></div>\n",
       "        <script>netpixi.call('jmB9EGPrWxgKr99M8i6Nt5', 'nrBvYebAD3nsaUCUsjmxxd', 'changeGraph', 'eyJ0eXBlIjogInNldHRpbmdzIiwgInByb3BzIjogeyJlZGdlIjogeyJ3aWR0aCI6IDAuMiwgImNvbG9yIjogNzgyOTUwMywgImN1cnZlMSI6IDAsICJjdXJ2ZTIiOiAwfX19Cg==');</script>\n",
       "    "
      ],
      "text/plain": [
       "<IPython.core.display.HTML object>"
      ]
     },
     "metadata": {},
     "output_type": "display_data"
    }
   ],
   "source": [
    "r.edge_default(\n",
    "    width=0.2,\n",
    "    color=0x7777ff,\n",
    "    curve1=0,\n",
    "    curve2=0,\n",
    ")"
   ]
  },
  {
   "cell_type": "markdown",
   "id": "4603ae38-dadb-4284-be5a-6edc72310fce",
   "metadata": {},
   "source": [
    "## Analyzing the network"
   ]
  },
  {
   "cell_type": "code",
   "execution_count": null,
   "id": "5b3690c0-5a81-480b-9efd-ddde9fd0541c",
   "metadata": {},
   "outputs": [],
   "source": []
  }
 ],
 "metadata": {
  "kernelspec": {
   "display_name": "Python 3 (ipykernel)",
   "language": "python",
   "name": "python3"
  },
  "language_info": {
   "codemirror_mode": {
    "name": "ipython",
    "version": 3
   },
   "file_extension": ".py",
   "mimetype": "text/x-python",
   "name": "python",
   "nbconvert_exporter": "python",
   "pygments_lexer": "ipython3",
   "version": "3.11.5"
  }
 },
 "nbformat": 4,
 "nbformat_minor": 5
}
