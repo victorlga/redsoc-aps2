{
 "cells": [
  {
   "cell_type": "markdown",
   "id": "7356e2d7-6504-485a-af60-93126f4ba239",
   "metadata": {},
   "source": [
    "# Building and analysing a XXX network"
   ]
  },
  {
   "cell_type": "code",
   "execution_count": 12,
   "id": "5a2685ca-0a75-4866-a8e6-e30ae77bdb37",
   "metadata": {
    "execution": {
     "iopub.execute_input": "2023-09-14T13:58:54.066561Z",
     "iopub.status.busy": "2023-09-14T13:58:54.064822Z",
     "iopub.status.idle": "2023-09-14T13:58:54.071906Z",
     "shell.execute_reply": "2023-09-14T13:58:54.070772Z",
     "shell.execute_reply.started": "2023-09-14T13:58:54.066502Z"
    }
   },
   "outputs": [],
   "source": [
    "import graph_tool_extras as gte\n",
    "from pathlib import Path"
   ]
  },
  {
   "cell_type": "markdown",
   "id": "cdb9be19-a3ee-4926-b1d2-e2c8c43dc672",
   "metadata": {},
   "source": [
    "## Introduction"
   ]
  },
  {
   "cell_type": "markdown",
   "id": "c7e50b3d-36ef-431a-8283-2ae1c9f8d131",
   "metadata": {},
   "source": [
    "In this notebook, a network of co-authorship of papers about condensed matter authors was built. The database in the file below is used. It's from the Stanford Network Analysis Project's dataset at https://networks.skewed.de/net/arxiv_authors#CondMat_draw."
   ]
  },
  {
   "cell_type": "code",
   "execution_count": 13,
   "id": "7eb99007-ccd3-4fa6-9729-9f739c695cc1",
   "metadata": {
    "execution": {
     "iopub.execute_input": "2023-09-14T13:58:55.286301Z",
     "iopub.status.busy": "2023-09-14T13:58:55.285041Z",
     "iopub.status.idle": "2023-09-14T13:58:55.292771Z",
     "shell.execute_reply": "2023-09-14T13:58:55.291372Z",
     "shell.execute_reply.started": "2023-09-14T13:58:55.286246Z"
    }
   },
   "outputs": [],
   "source": [
    "FOLDER_PATH = Path.cwd() / 'CondMat.csv'\n",
    "EDGE_FILE_PATH = FOLDER_PATH / 'edges.csv'\n",
    "NODES_FILE_PATH = FOLDER_PATH / 'nodes.csv'"
   ]
  },
  {
   "cell_type": "markdown",
   "id": "c5caf39a-4d2c-4b7e-a74e-1b596c064f4f",
   "metadata": {},
   "source": [
    "## Understanding the data"
   ]
  },
  {
   "cell_type": "markdown",
   "id": "eb52fa9c-0aad-4f22-9755-0750e32b91aa",
   "metadata": {},
   "source": [
    "Concept of vertices:\n",
    "Authors\n",
    "\n",
    "Concept of edges:\n",
    "An edge between i and j indicates co-authorship between i and j.\n",
    "\n",
    "Operationalization of vertices:\n",
    "\n",
    "Each vertex represents an author of a paper in the cond-mat category (an area that studies condensed matter) on the arXiv platform. The data was collected from January 1993 to April 2003.\n",
    "\n",
    "Operationalization of edges:\n",
    "An edge between authors i and j indicates a co-authorship relationship between them. In cases where other k authors also contributed to the production of the paper, these additional k authors are connected to both authors i and j, as well as to each other, through edges."
   ]
  },
  {
   "cell_type": "markdown",
   "id": "952e8d46-02d4-4cce-92b7-9fcdca7381d6",
   "metadata": {},
   "source": [
    "## Creating functions to build the network"
   ]
  },
  {
   "cell_type": "code",
   "execution_count": 14,
   "id": "e8548565-eb98-4d8e-b88c-5606b90d0a48",
   "metadata": {
    "execution": {
     "iopub.execute_input": "2023-09-14T13:59:06.463414Z",
     "iopub.status.busy": "2023-09-14T13:59:06.462867Z",
     "iopub.status.idle": "2023-09-14T13:59:06.471142Z",
     "shell.execute_reply": "2023-09-14T13:59:06.469648Z",
     "shell.execute_reply.started": "2023-09-14T13:59:06.463372Z"
    }
   },
   "outputs": [],
   "source": [
    "def get_or_add_vertex(g, id):\n",
    "    u = g.vertex_by_id(id)\n",
    "    if u is None:\n",
    "        u = g.add_vertex_by_id(id)\n",
    "        # u['id'] = id\n",
    "    return u"
   ]
  },
  {
   "cell_type": "code",
   "execution_count": 15,
   "id": "2b7c4621-fd32-40db-8972-6a65bbd64fe6",
   "metadata": {
    "execution": {
     "iopub.execute_input": "2023-09-14T13:59:06.920019Z",
     "iopub.status.busy": "2023-09-14T13:59:06.919509Z",
     "iopub.status.idle": "2023-09-14T13:59:06.928372Z",
     "shell.execute_reply": "2023-09-14T13:59:06.926827Z",
     "shell.execute_reply.started": "2023-09-14T13:59:06.919980Z"
    }
   },
   "outputs": [],
   "source": [
    "def get_or_add_edge(g, gene_a, gene_b, master_net_id):\n",
    "    e = g.edge_by_ids(gene_a, gene_b)\n",
    "    if e is None:\n",
    "        e = g.add_edge_by_ids(gene_a, gene_b)\n",
    "        # e['master_net_id'] = master_net_id\n",
    "    return e"
   ]
  },
  {
   "cell_type": "markdown",
   "id": "89c46a52-7637-4cc2-a328-4ea2419e46b8",
   "metadata": {},
   "source": [
    "## Reading the data and building the network"
   ]
  },
  {
   "cell_type": "code",
   "execution_count": 16,
   "id": "0f1dc392-21ed-4adb-8d27-49ab0526512a",
   "metadata": {
    "execution": {
     "iopub.execute_input": "2023-09-14T13:59:08.931672Z",
     "iopub.status.busy": "2023-09-14T13:59:08.931383Z",
     "iopub.status.idle": "2023-09-14T13:59:08.935485Z",
     "shell.execute_reply": "2023-09-14T13:59:08.934793Z",
     "shell.execute_reply.started": "2023-09-14T13:59:08.931654Z"
    }
   },
   "outputs": [],
   "source": [
    "g = gte.Graph(directed=False)"
   ]
  },
  {
   "cell_type": "code",
   "execution_count": 9,
   "id": "458df791-21da-492b-a578-3d97bf9ea867",
   "metadata": {
    "execution": {
     "iopub.execute_input": "2023-09-14T13:56:30.600764Z",
     "iopub.status.busy": "2023-09-14T13:56:30.600221Z",
     "iopub.status.idle": "2023-09-14T13:56:30.651996Z",
     "shell.execute_reply": "2023-09-14T13:56:30.649888Z",
     "shell.execute_reply.started": "2023-09-14T13:56:30.600724Z"
    }
   },
   "outputs": [
    {
     "ename": "AttributeError",
     "evalue": "'Graph' object has no attribute 'add_'",
     "output_type": "error",
     "traceback": [
      "\u001b[0;31m---------------------------------------------------------------------------\u001b[0m",
      "\u001b[0;31mAttributeError\u001b[0m                            Traceback (most recent call last)",
      "Cell \u001b[0;32mIn[9], line 3\u001b[0m\n\u001b[1;32m      1\u001b[0m g\u001b[38;5;241m.\u001b[39madd_ep(\u001b[38;5;124m'\u001b[39m\u001b[38;5;124m'\u001b[39m)\n\u001b[1;32m      2\u001b[0m g\u001b[38;5;241m.\u001b[39madd_vp(\u001b[38;5;124m'\u001b[39m\u001b[38;5;124m'\u001b[39m)\n\u001b[0;32m----> 3\u001b[0m \u001b[43mg\u001b[49m\u001b[38;5;241;43m.\u001b[39;49m\u001b[43madd_\u001b[49m(\u001b[38;5;124m'\u001b[39m\u001b[38;5;124m'\u001b[39m)\n",
      "\u001b[0;31mAttributeError\u001b[0m: 'Graph' object has no attribute 'add_'"
     ]
    }
   ],
   "source": [
    "g.add_ep('')\n",
    "g.add_vp('')\n",
    "g.add_('')"
   ]
  },
  {
   "cell_type": "code",
   "execution_count": 17,
   "id": "d8604c6b-385a-4385-ac5b-05581d700896",
   "metadata": {
    "execution": {
     "iopub.execute_input": "2023-09-14T13:59:13.499695Z",
     "iopub.status.busy": "2023-09-14T13:59:13.499172Z",
     "iopub.status.idle": "2023-09-14T13:59:13.523480Z",
     "shell.execute_reply": "2023-09-14T13:59:13.522250Z",
     "shell.execute_reply.started": "2023-09-14T13:59:13.499656Z"
    }
   },
   "outputs": [
    {
     "ename": "FileNotFoundError",
     "evalue": "[Errno 2] No such file or directory: 'CondMat.csv/nodes.csv'",
     "output_type": "error",
     "traceback": [
      "\u001b[0;31m---------------------------------------------------------------------------\u001b[0m",
      "\u001b[0;31mFileNotFoundError\u001b[0m                         Traceback (most recent call last)",
      "Cell \u001b[0;32mIn[17], line 1\u001b[0m\n\u001b[0;32m----> 1\u001b[0m \u001b[38;5;28;01mwith\u001b[39;00m \u001b[38;5;28;43mopen\u001b[39;49m\u001b[43m(\u001b[49m\u001b[43mNODES_FILE_PATH\u001b[49m\u001b[43m)\u001b[49m \u001b[38;5;28;01mas\u001b[39;00m file:\n\u001b[1;32m      3\u001b[0m     \u001b[38;5;28mnext\u001b[39m(file)\n\u001b[1;32m      5\u001b[0m     \u001b[38;5;28;01mfor\u001b[39;00m line \u001b[38;5;129;01min\u001b[39;00m file:\n",
      "File \u001b[0;32m/usr/local/lib/python3.11/site-packages/IPython/core/interactiveshell.py:286\u001b[0m, in \u001b[0;36m_modified_open\u001b[0;34m(file, *args, **kwargs)\u001b[0m\n\u001b[1;32m    279\u001b[0m \u001b[38;5;28;01mif\u001b[39;00m file \u001b[38;5;129;01min\u001b[39;00m {\u001b[38;5;241m0\u001b[39m, \u001b[38;5;241m1\u001b[39m, \u001b[38;5;241m2\u001b[39m}:\n\u001b[1;32m    280\u001b[0m     \u001b[38;5;28;01mraise\u001b[39;00m \u001b[38;5;167;01mValueError\u001b[39;00m(\n\u001b[1;32m    281\u001b[0m         \u001b[38;5;124mf\u001b[39m\u001b[38;5;124m\"\u001b[39m\u001b[38;5;124mIPython won\u001b[39m\u001b[38;5;124m'\u001b[39m\u001b[38;5;124mt let you open fd=\u001b[39m\u001b[38;5;132;01m{\u001b[39;00mfile\u001b[38;5;132;01m}\u001b[39;00m\u001b[38;5;124m by default \u001b[39m\u001b[38;5;124m\"\u001b[39m\n\u001b[1;32m    282\u001b[0m         \u001b[38;5;124m\"\u001b[39m\u001b[38;5;124mas it is likely to crash IPython. If you know what you are doing, \u001b[39m\u001b[38;5;124m\"\u001b[39m\n\u001b[1;32m    283\u001b[0m         \u001b[38;5;124m\"\u001b[39m\u001b[38;5;124myou can use builtins\u001b[39m\u001b[38;5;124m'\u001b[39m\u001b[38;5;124m open.\u001b[39m\u001b[38;5;124m\"\u001b[39m\n\u001b[1;32m    284\u001b[0m     )\n\u001b[0;32m--> 286\u001b[0m \u001b[38;5;28;01mreturn\u001b[39;00m \u001b[43mio_open\u001b[49m\u001b[43m(\u001b[49m\u001b[43mfile\u001b[49m\u001b[43m,\u001b[49m\u001b[43m \u001b[49m\u001b[38;5;241;43m*\u001b[39;49m\u001b[43margs\u001b[49m\u001b[43m,\u001b[49m\u001b[43m \u001b[49m\u001b[38;5;241;43m*\u001b[39;49m\u001b[38;5;241;43m*\u001b[39;49m\u001b[43mkwargs\u001b[49m\u001b[43m)\u001b[49m\n",
      "\u001b[0;31mFileNotFoundError\u001b[0m: [Errno 2] No such file or directory: 'CondMat.csv/nodes.csv'"
     ]
    }
   ],
   "source": [
    "with open(NODES_FILE_PATH) as file:\n",
    "\n",
    "    next(file)\n",
    "\n",
    "    for line in file:\n",
    "        parts = line.split(',')\n",
    "\n",
    "        parts = [part[1:-1] for part in parts]\n",
    "        print(parts)\n",
    "        break"
   ]
  },
  {
   "cell_type": "code",
   "execution_count": null,
   "id": "51386696-159a-4ca9-a8f1-faf5798c597d",
   "metadata": {},
   "outputs": [],
   "source": [
    "with open(EDGES_FILE_PATH) as file:\n",
    "\n",
    "    next(file)\n",
    "    for line in file:\n",
    "        parts = line.split(',')\n",
    "\n",
    "        parts = [part[1:-1] for part in parts]\n",
    "        ..."
   ]
  },
  {
   "cell_type": "code",
   "execution_count": null,
   "id": "017181be-68e4-4e02-9fbe-2e6f42335961",
   "metadata": {},
   "outputs": [],
   "source": [
    "g = gte.clean(g)"
   ]
  },
  {
   "cell_type": "code",
   "execution_count": null,
   "id": "58f23076-b324-4a4d-a73f-c75d6370129f",
   "metadata": {},
   "outputs": [],
   "source": [
    "gte.save(g, '.net.gz')"
   ]
  },
  {
   "cell_type": "markdown",
   "id": "2007fcb0-e3f6-4a21-89a9-9056b6f06135",
   "metadata": {},
   "source": [
    "## Configuring the layout and rendering the network"
   ]
  },
  {
   "cell_type": "code",
   "execution_count": null,
   "id": "6e00504a-1776-4b37-9868-89ca4c5e214b",
   "metadata": {},
   "outputs": [],
   "source": [
    "from graph_tool import draw\n",
    "import netpixi"
   ]
  },
  {
   "cell_type": "code",
   "execution_count": null,
   "id": "6578e088-7675-4f8b-bc6f-b344775fa138",
   "metadata": {},
   "outputs": [],
   "source": [
    "layout = draw.sfdp_layout(g)"
   ]
  },
  {
   "cell_type": "code",
   "execution_count": null,
   "id": "6b9e2bf3-7bfd-40eb-8690-6880de42d0e2",
   "metadata": {},
   "outputs": [],
   "source": [
    "gte.move(g, layout)"
   ]
  },
  {
   "cell_type": "code",
   "execution_count": null,
   "id": "2a03fbf6-d32c-4db9-b6a3-038f06b39839",
   "metadata": {},
   "outputs": [],
   "source": [
    "gte.save(g, '_layout.net.gz')"
   ]
  },
  {
   "cell_type": "code",
   "execution_count": null,
   "id": "544a69dd-5a60-4c65-90e9-c06087ad0167",
   "metadata": {},
   "outputs": [],
   "source": [
    "r = netpixi.render('_layout.net.gz', infinite=True)"
   ]
  },
  {
   "cell_type": "markdown",
   "id": "3860136a-997e-402f-9917-12fdd7c59412",
   "metadata": {},
   "source": [
    "## Improving network vizualization"
   ]
  },
  {
   "cell_type": "code",
   "execution_count": null,
   "id": "586d6e2e-bac0-4f75-b810-ade3464cbd8b",
   "metadata": {},
   "outputs": [],
   "source": [
    "r.vertex_default(\n",
    "    size=4,\n",
    "    color=0xffff00,\n",
    "    bwidth=1,\n",
    "    bcolor=0x007700,\n",
    ")"
   ]
  },
  {
   "cell_type": "code",
   "execution_count": null,
   "id": "d26f15c6-d02e-4fa4-85a0-1a58033900b6",
   "metadata": {},
   "outputs": [],
   "source": [
    "r.edge_default(\n",
    "    width=0.2,\n",
    "    color=0x7777ff,\n",
    "    curve1=0,\n",
    "    curve2=0,\n",
    ")"
   ]
  },
  {
   "cell_type": "markdown",
   "id": "4603ae38-dadb-4284-be5a-6edc72310fce",
   "metadata": {},
   "source": [
    "## Analyzing the network"
   ]
  },
  {
   "cell_type": "code",
   "execution_count": null,
   "id": "5b3690c0-5a81-480b-9efd-ddde9fd0541c",
   "metadata": {},
   "outputs": [],
   "source": []
  }
 ],
 "metadata": {
  "kernelspec": {
   "display_name": "Python 3 (ipykernel)",
   "language": "python",
   "name": "python3"
  },
  "language_info": {
   "codemirror_mode": {
    "name": "ipython",
    "version": 3
   },
   "file_extension": ".py",
   "mimetype": "text/x-python",
   "name": "python",
   "nbconvert_exporter": "python",
   "pygments_lexer": "ipython3",
   "version": "3.11.5"
  }
 },
 "nbformat": 4,
 "nbformat_minor": 5
}
