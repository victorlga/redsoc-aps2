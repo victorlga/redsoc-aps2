{
 "cells": [
  {
   "cell_type": "markdown",
   "id": "7356e2d7-6504-485a-af60-93126f4ba239",
   "metadata": {},
   "source": [
    "# Building and analysing a paper co-authorship network"
   ]
  },
  {
   "cell_type": "code",
   "execution_count": 2,
   "id": "5a2685ca-0a75-4866-a8e6-e30ae77bdb37",
   "metadata": {
    "execution": {
     "iopub.execute_input": "2023-09-15T18:51:22.361418Z",
     "iopub.status.busy": "2023-09-15T18:51:22.359567Z",
     "iopub.status.idle": "2023-09-15T18:51:22.911041Z",
     "shell.execute_reply": "2023-09-15T18:51:22.910168Z",
     "shell.execute_reply.started": "2023-09-15T18:51:22.361357Z"
    }
   },
   "outputs": [],
   "source": [
    "import graph_tool_extras as gte\n",
    "from pathlib import Path"
   ]
  },
  {
   "cell_type": "markdown",
   "id": "cdb9be19-a3ee-4926-b1d2-e2c8c43dc672",
   "metadata": {},
   "source": [
    "## Introduction"
   ]
  },
  {
   "cell_type": "markdown",
   "id": "c7e50b3d-36ef-431a-8283-2ae1c9f8d131",
   "metadata": {},
   "source": [
    "In this notebook, a network of co-authorship of papers about condensed matter authors was built. The database in the file below is used. It's from the Stanford Network Analysis Project's dataset at https://networks.skewed.de/net/arxiv_authors#CondMat_draw."
   ]
  },
  {
   "cell_type": "code",
   "execution_count": 3,
   "id": "7eb99007-ccd3-4fa6-9729-9f739c695cc1",
   "metadata": {
    "execution": {
     "iopub.execute_input": "2023-09-15T18:51:23.192350Z",
     "iopub.status.busy": "2023-09-15T18:51:23.191813Z",
     "iopub.status.idle": "2023-09-15T18:51:23.196859Z",
     "shell.execute_reply": "2023-09-15T18:51:23.196016Z",
     "shell.execute_reply.started": "2023-09-15T18:51:23.192311Z"
    }
   },
   "outputs": [],
   "source": [
    "FOLDER_PATH = Path.cwd() / 'archive'\n",
    "EDGES_FILE_PATH = FOLDER_PATH / 'musae_git_edges.csv'"
   ]
  },
  {
   "cell_type": "markdown",
   "id": "c5caf39a-4d2c-4b7e-a74e-1b596c064f4f",
   "metadata": {},
   "source": [
    "## Understanding the data"
   ]
  },
  {
   "cell_type": "markdown",
   "id": "85703717-95e7-4b8e-90a0-7fb20bda5902",
   "metadata": {},
   "source": [
    "| Concept of vertices                                                                                                 | Concept of edges                                                                                                                             | Operationalization of vertices                                                                                                                                                                                                                                                           | Operationalization of edges                                                                                                                                                                                                                                                  |\n",
    "|---------------------------------------------------------------------------------------------------------------------|---------------------------------------------------------------------------------------------------------------------------------------------|----------------------------------------------------------------------------------------------------------------------------------------------------------------------------------------------------------------------------------------------------------------------------------------|-----------------------------------------------------------------------------------------------------------------------------------------------------------------------------------------------------------------------------------------------------------------------------|\n",
    "| Webpage                                                                                                             | An edge between i and j indicates co-authorship between i and j.                                                                           | Each vertex represents an author of a paper in the cond-mat category on the arXiv platform. The data was collected from January 1993 to April 2003.                                                                                                                                 | An edge between authors i and j indicates a co-authorship relationship between them. In cases where other k authors also contributed to the production of the paper, these additional k authors are connected to both authors i and j, as well as to each other, through edges. |\n"
   ]
  },
  {
   "cell_type": "markdown",
   "id": "952e8d46-02d4-4cce-92b7-9fcdca7381d6",
   "metadata": {},
   "source": [
    "## Creating functions to build the network"
   ]
  },
  {
   "cell_type": "code",
   "execution_count": 4,
   "id": "e8548565-eb98-4d8e-b88c-5606b90d0a48",
   "metadata": {
    "execution": {
     "iopub.execute_input": "2023-09-15T18:51:26.324985Z",
     "iopub.status.busy": "2023-09-15T18:51:26.324740Z",
     "iopub.status.idle": "2023-09-15T18:51:26.328314Z",
     "shell.execute_reply": "2023-09-15T18:51:26.327673Z",
     "shell.execute_reply.started": "2023-09-15T18:51:26.324965Z"
    }
   },
   "outputs": [],
   "source": [
    "def get_or_add_vertex(g, id):\n",
    "    u = g.vertex_by_id(id)\n",
    "    if u is None:\n",
    "        u = g.add_vertex_by_id(id)\n",
    "    return u"
   ]
  },
  {
   "cell_type": "code",
   "execution_count": 5,
   "id": "2b7c4621-fd32-40db-8972-6a65bbd64fe6",
   "metadata": {
    "execution": {
     "iopub.execute_input": "2023-09-15T18:51:27.419530Z",
     "iopub.status.busy": "2023-09-15T18:51:27.419007Z",
     "iopub.status.idle": "2023-09-15T18:51:27.426325Z",
     "shell.execute_reply": "2023-09-15T18:51:27.425253Z",
     "shell.execute_reply.started": "2023-09-15T18:51:27.419490Z"
    }
   },
   "outputs": [],
   "source": [
    "def get_or_add_edge(g, author_a, author_b):\n",
    "    e = g.edge_by_ids(author_a, author_b)\n",
    "    if e is None:\n",
    "        e = g.add_edge_by_ids(author_a, author_b)\n",
    "    return e"
   ]
  },
  {
   "cell_type": "markdown",
   "id": "89c46a52-7637-4cc2-a328-4ea2419e46b8",
   "metadata": {},
   "source": [
    "## Reading the data and building the network"
   ]
  },
  {
   "cell_type": "code",
   "execution_count": 7,
   "id": "0f1dc392-21ed-4adb-8d27-49ab0526512a",
   "metadata": {
    "execution": {
     "iopub.execute_input": "2023-09-15T18:51:33.705881Z",
     "iopub.status.busy": "2023-09-15T18:51:33.705379Z",
     "iopub.status.idle": "2023-09-15T18:51:33.713325Z",
     "shell.execute_reply": "2023-09-15T18:51:33.712282Z",
     "shell.execute_reply.started": "2023-09-15T18:51:33.705841Z"
    }
   },
   "outputs": [],
   "source": [
    "g = gte.Graph(directed=False)"
   ]
  },
  {
   "cell_type": "code",
   "execution_count": 10,
   "id": "51386696-159a-4ca9-a8f1-faf5798c597d",
   "metadata": {
    "execution": {
     "iopub.execute_input": "2023-09-15T18:53:06.046621Z",
     "iopub.status.busy": "2023-09-15T18:53:06.046135Z",
     "iopub.status.idle": "2023-09-15T18:53:13.111490Z",
     "shell.execute_reply": "2023-09-15T18:53:13.110709Z",
     "shell.execute_reply.started": "2023-09-15T18:53:06.046567Z"
    }
   },
   "outputs": [],
   "source": [
    "with open(EDGES_FILE_PATH) as file:\n",
    "\n",
    "    next(file)\n",
    "    \n",
    "    for line in file:\n",
    "        parts = line.split(',')\n",
    "\n",
    "        author_a = parts[0]\n",
    "        author_b = parts[1].replace('\\n', '')\n",
    "        \n",
    "        vertex_a = get_or_add_vertex(g, author_a)\n",
    "        vertex_b = get_or_add_vertex(g, author_b)\n",
    "        edge = get_or_add_edge(g, author_a, author_b)"
   ]
  },
  {
   "cell_type": "code",
   "execution_count": 11,
   "id": "017181be-68e4-4e02-9fbe-2e6f42335961",
   "metadata": {
    "execution": {
     "iopub.execute_input": "2023-09-15T18:53:13.112671Z",
     "iopub.status.busy": "2023-09-15T18:53:13.112459Z",
     "iopub.status.idle": "2023-09-15T18:53:13.316852Z",
     "shell.execute_reply": "2023-09-15T18:53:13.316242Z",
     "shell.execute_reply.started": "2023-09-15T18:53:13.112654Z"
    }
   },
   "outputs": [],
   "source": [
    "g = gte.clean(g)"
   ]
  },
  {
   "cell_type": "code",
   "execution_count": 12,
   "id": "58f23076-b324-4a4d-a73f-c75d6370129f",
   "metadata": {
    "execution": {
     "iopub.execute_input": "2023-09-15T18:53:20.927689Z",
     "iopub.status.busy": "2023-09-15T18:53:20.927175Z",
     "iopub.status.idle": "2023-09-15T18:53:31.099338Z",
     "shell.execute_reply": "2023-09-15T18:53:31.098685Z",
     "shell.execute_reply.started": "2023-09-15T18:53:20.927648Z"
    }
   },
   "outputs": [],
   "source": [
    "gte.save(g, 'github_social.net.gz')"
   ]
  },
  {
   "cell_type": "markdown",
   "id": "2007fcb0-e3f6-4a21-89a9-9056b6f06135",
   "metadata": {},
   "source": [
    "## Configuring the layout and rendering the network"
   ]
  },
  {
   "cell_type": "code",
   "execution_count": 13,
   "id": "6e00504a-1776-4b37-9868-89ca4c5e214b",
   "metadata": {
    "execution": {
     "iopub.execute_input": "2023-09-15T18:53:31.100617Z",
     "iopub.status.busy": "2023-09-15T18:53:31.100318Z",
     "iopub.status.idle": "2023-09-15T18:53:31.774091Z",
     "shell.execute_reply": "2023-09-15T18:53:31.773244Z",
     "shell.execute_reply.started": "2023-09-15T18:53:31.100597Z"
    }
   },
   "outputs": [
    {
     "data": {
      "text/html": [
       "\n",
       "    <script src=\"/static/.hidden/netpixi.min.js\"></script>\n"
      ],
      "text/plain": [
       "<IPython.core.display.HTML object>"
      ]
     },
     "metadata": {},
     "output_type": "display_data"
    }
   ],
   "source": [
    "from graph_tool import draw\n",
    "import netpixi"
   ]
  },
  {
   "cell_type": "code",
   "execution_count": 14,
   "id": "6578e088-7675-4f8b-bc6f-b344775fa138",
   "metadata": {
    "execution": {
     "iopub.execute_input": "2023-09-15T18:53:31.775530Z",
     "iopub.status.busy": "2023-09-15T18:53:31.775034Z",
     "iopub.status.idle": "2023-09-15T18:56:10.885770Z",
     "shell.execute_reply": "2023-09-15T18:56:10.885137Z",
     "shell.execute_reply.started": "2023-09-15T18:53:31.775504Z"
    }
   },
   "outputs": [],
   "source": [
    "layout = draw.sfdp_layout(g)"
   ]
  },
  {
   "cell_type": "code",
   "execution_count": 15,
   "id": "6b9e2bf3-7bfd-40eb-8690-6880de42d0e2",
   "metadata": {
    "execution": {
     "iopub.execute_input": "2023-09-15T18:56:10.888285Z",
     "iopub.status.busy": "2023-09-15T18:56:10.888111Z",
     "iopub.status.idle": "2023-09-15T18:56:11.519494Z",
     "shell.execute_reply": "2023-09-15T18:56:11.518958Z",
     "shell.execute_reply.started": "2023-09-15T18:56:10.888272Z"
    }
   },
   "outputs": [],
   "source": [
    "gte.move(g, layout)"
   ]
  },
  {
   "cell_type": "code",
   "execution_count": 16,
   "id": "2a03fbf6-d32c-4db9-b6a3-038f06b39839",
   "metadata": {
    "execution": {
     "iopub.execute_input": "2023-09-15T18:56:11.520353Z",
     "iopub.status.busy": "2023-09-15T18:56:11.520181Z",
     "iopub.status.idle": "2023-09-15T18:56:22.737994Z",
     "shell.execute_reply": "2023-09-15T18:56:22.737342Z",
     "shell.execute_reply.started": "2023-09-15T18:56:11.520341Z"
    }
   },
   "outputs": [],
   "source": [
    "gte.save(g, 'github_social_layout.net.gz')"
   ]
  },
  {
   "cell_type": "code",
   "execution_count": 17,
   "id": "544a69dd-5a60-4c65-90e9-c06087ad0167",
   "metadata": {
    "execution": {
     "iopub.execute_input": "2023-09-15T18:56:22.739364Z",
     "iopub.status.busy": "2023-09-15T18:56:22.738885Z",
     "iopub.status.idle": "2023-09-15T18:56:22.746940Z",
     "shell.execute_reply": "2023-09-15T18:56:22.746141Z",
     "shell.execute_reply.started": "2023-09-15T18:56:22.739340Z"
    }
   },
   "outputs": [
    {
     "data": {
      "text/html": [
       "\n",
       "        <div id=\"CuvB6RAHhUuwxT7B8hSbmY\"></div>\n",
       "        <script>netpixi.render('CuvB6RAHhUuwxT7B8hSbmY', '/static/__shared__/redsoc-aps2/github_social_layout.net.gz', 1.7777777777777777, true, true, false, true);</script>\n",
       "    "
      ],
      "text/plain": [
       "<IPython.core.display.HTML object>"
      ]
     },
     "metadata": {},
     "output_type": "display_data"
    }
   ],
   "source": [
    "r = netpixi.render('github_social_layout.net.gz', infinite=True)"
   ]
  },
  {
   "cell_type": "markdown",
   "id": "3860136a-997e-402f-9917-12fdd7c59412",
   "metadata": {},
   "source": [
    "## Improving network vizualization"
   ]
  },
  {
   "cell_type": "code",
   "execution_count": 24,
   "id": "586d6e2e-bac0-4f75-b810-ade3464cbd8b",
   "metadata": {
    "execution": {
     "iopub.execute_input": "2023-09-15T19:00:02.272212Z",
     "iopub.status.busy": "2023-09-15T19:00:02.271722Z",
     "iopub.status.idle": "2023-09-15T19:00:02.279759Z",
     "shell.execute_reply": "2023-09-15T19:00:02.278739Z",
     "shell.execute_reply.started": "2023-09-15T19:00:02.272153Z"
    }
   },
   "outputs": [
    {
     "data": {
      "text/html": [
       "\n",
       "        <div id=\"7j6p9kw4mEQtqebsbtAcmP\"></div>\n",
       "        <script>netpixi.call('7j6p9kw4mEQtqebsbtAcmP', 'CuvB6RAHhUuwxT7B8hSbmY', 'changeGraph', 'eyJ0eXBlIjogInNldHRpbmdzIiwgInByb3BzIjogeyJ2ZXJ0ZXgiOiB7InNpemUiOiAyLCAiY29sb3IiOiAxNjcxMTY4MCwgImJ3aWR0aCI6IDEsICJiY29sb3IiOiAzMDQ2NH19fQo=');</script>\n",
       "    "
      ],
      "text/plain": [
       "<IPython.core.display.HTML object>"
      ]
     },
     "metadata": {},
     "output_type": "display_data"
    }
   ],
   "source": [
    "r.vertex_default(\n",
    "    size=2,\n",
    "    color=0xff0000,\n",
    "    bwidth=1,\n",
    "    bcolor=0x007700,\n",
    ")"
   ]
  },
  {
   "cell_type": "code",
   "execution_count": 20,
   "id": "d26f15c6-d02e-4fa4-85a0-1a58033900b6",
   "metadata": {
    "execution": {
     "iopub.execute_input": "2023-09-15T18:57:44.078426Z",
     "iopub.status.busy": "2023-09-15T18:57:44.077977Z",
     "iopub.status.idle": "2023-09-15T18:57:44.086020Z",
     "shell.execute_reply": "2023-09-15T18:57:44.084936Z",
     "shell.execute_reply.started": "2023-09-15T18:57:44.078387Z"
    }
   },
   "outputs": [
    {
     "data": {
      "text/html": [
       "\n",
       "        <div id=\"forYNiQdgqUcDwCxefAiW4\"></div>\n",
       "        <script>netpixi.call('forYNiQdgqUcDwCxefAiW4', 'CuvB6RAHhUuwxT7B8hSbmY', 'changeGraph', 'eyJ0eXBlIjogInNldHRpbmdzIiwgInByb3BzIjogeyJlZGdlIjogeyJ3aWR0aCI6IDAuMiwgImNvbG9yIjogMTY3NzcyMTUsICJjdXJ2ZTEiOiAwLCAiY3VydmUyIjogMH19fQo=');</script>\n",
       "    "
      ],
      "text/plain": [
       "<IPython.core.display.HTML object>"
      ]
     },
     "metadata": {},
     "output_type": "display_data"
    }
   ],
   "source": [
    "r.edge_default(\n",
    "    width=0.2,\n",
    "    color=0xffffff,\n",
    "    curve1=0,\n",
    "    curve2=0,\n",
    ")"
   ]
  },
  {
   "cell_type": "markdown",
   "id": "4603ae38-dadb-4284-be5a-6edc72310fce",
   "metadata": {},
   "source": [
    "## Analyzing the network"
   ]
  },
  {
   "cell_type": "code",
   "execution_count": null,
   "id": "5b3690c0-5a81-480b-9efd-ddde9fd0541c",
   "metadata": {},
   "outputs": [],
   "source": []
  }
 ],
 "metadata": {
  "kernelspec": {
   "display_name": "Python 3 (ipykernel)",
   "language": "python",
   "name": "python3"
  },
  "language_info": {
   "codemirror_mode": {
    "name": "ipython",
    "version": 3
   },
   "file_extension": ".py",
   "mimetype": "text/x-python",
   "name": "python",
   "nbconvert_exporter": "python",
   "pygments_lexer": "ipython3",
   "version": "3.11.5"
  }
 },
 "nbformat": 4,
 "nbformat_minor": 5
}
