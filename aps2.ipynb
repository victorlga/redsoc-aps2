{
 "cells": [
  {
   "cell_type": "markdown",
   "id": "7356e2d7-6504-485a-af60-93126f4ba239",
   "metadata": {},
   "source": [
    "# Building and analysing a paper co-authorship network"
   ]
  },
  {
   "cell_type": "code",
   "execution_count": null,
   "id": "5a2685ca-0a75-4866-a8e6-e30ae77bdb37",
   "metadata": {
    "execution": {
     "iopub.execute_input": "2023-09-15T23:03:35.940581Z",
     "iopub.status.busy": "2023-09-15T23:03:35.940084Z",
     "iopub.status.idle": "2023-09-15T23:03:36.369610Z",
     "shell.execute_reply": "2023-09-15T23:03:36.368755Z",
     "shell.execute_reply.started": "2023-09-15T23:03:35.940559Z"
    }
   },
   "outputs": [],
   "source": [
    "import graph_tool_extras as gte\n",
    "from pathlib import Path\n",
    "\n",
    "import distribution as dst\n",
    "\n",
    "from itertools import combinations\n",
    "from random import random, choices, seed\n",
    "\n",
    "from math import log"
   ]
  },
  {
   "cell_type": "markdown",
   "id": "cdb9be19-a3ee-4926-b1d2-e2c8c43dc672",
   "metadata": {},
   "source": [
    "## Introduction"
   ]
  },
  {
   "cell_type": "markdown",
   "id": "c7e50b3d-36ef-431a-8283-2ae1c9f8d131",
   "metadata": {},
   "source": [
    "In this notebook, a network of Github developers in which the nodes are develpers and the edges, if they exist, are mutual follower releationships.\n",
    "\n",
    "https://www.kaggle.com/datasets/rozemberczki/musae-github-social-network\n",
    "\n",
    "The dataset was created with the aim of supporting the following comparative research about different social networks:\n",
    "\n",
    "https://arxiv.org/pdf/1909.13021.pdf"
   ]
  },
  {
   "cell_type": "code",
   "execution_count": null,
   "id": "7eb99007-ccd3-4fa6-9729-9f739c695cc1",
   "metadata": {
    "execution": {
     "iopub.execute_input": "2023-09-15T23:03:36.578385Z",
     "iopub.status.busy": "2023-09-15T23:03:36.577614Z",
     "iopub.status.idle": "2023-09-15T23:03:36.583129Z",
     "shell.execute_reply": "2023-09-15T23:03:36.582299Z",
     "shell.execute_reply.started": "2023-09-15T23:03:36.578362Z"
    }
   },
   "outputs": [],
   "source": [
    "FOLDER_PATH = Path.cwd() / 'archive'\n",
    "EDGES_FILE_PATH = FOLDER_PATH / 'musae_git_edges.csv'"
   ]
  },
  {
   "cell_type": "markdown",
   "id": "f7843099-f675-4c78-8318-5c019937ec5e",
   "metadata": {},
   "source": [
    "## Randomly limiting the Data\n",
    "\n",
    "Given that the dataset exceded the maximium size requirement of this project, the data was limited by randomly selecting node's indexes. The list is turned to set to reduce the time complexity of the loop inside while parsing the file."
   ]
  },
  {
   "cell_type": "code",
   "execution_count": null,
   "id": "d017aaf0-1419-48ca-9e89-a401d4fc0c26",
   "metadata": {
    "execution": {
     "iopub.execute_input": "2023-09-15T23:03:37.187114Z",
     "iopub.status.busy": "2023-09-15T23:03:37.186369Z",
     "iopub.status.idle": "2023-09-15T23:03:37.199799Z",
     "shell.execute_reply": "2023-09-15T23:03:37.198554Z",
     "shell.execute_reply.started": "2023-09-15T23:03:37.187089Z"
    }
   },
   "outputs": [],
   "source": [
    "seed(10)\n",
    "listaNodesIndex = range(0, 37701)\n",
    "chosenNodes = choices(listaNodesIndex, k=int(37700 / 1.2))\n",
    "chosenNodesSet = set(chosenNodes)"
   ]
  },
  {
   "cell_type": "markdown",
   "id": "c5caf39a-4d2c-4b7e-a74e-1b596c064f4f",
   "metadata": {},
   "source": [
    "## Understanding the data"
   ]
  },
  {
   "cell_type": "markdown",
   "id": "85703717-95e7-4b8e-90a0-7fb20bda5902",
   "metadata": {},
   "source": [
    "An extensive social network of GitHub developers was collected from the public API in June 2019. Nodes are developers who have starred at most minuscule 10 repositories, and edges are mutual follower relationships between them. The vertex features are extracted based on the location; repositories starred, employer and e-mail address. The task related to the graph is binary node classification - one has to predict whether the GitHub user is a web or a machine learning developer. This targeting feature was derived from the job title of each user.\n",
    "\n",
    "(Text extracted from https://www.kaggle.com/datasets/gitanjali1425/github-social-network-graph-dataset)"
   ]
  },
  {
   "cell_type": "markdown",
   "id": "952e8d46-02d4-4cce-92b7-9fcdca7381d6",
   "metadata": {},
   "source": [
    "## Creating functions to build the network"
   ]
  },
  {
   "cell_type": "code",
   "execution_count": null,
   "id": "e8548565-eb98-4d8e-b88c-5606b90d0a48",
   "metadata": {
    "execution": {
     "iopub.execute_input": "2023-09-15T23:03:37.784201Z",
     "iopub.status.busy": "2023-09-15T23:03:37.783580Z",
     "iopub.status.idle": "2023-09-15T23:03:37.789855Z",
     "shell.execute_reply": "2023-09-15T23:03:37.788792Z",
     "shell.execute_reply.started": "2023-09-15T23:03:37.784144Z"
    }
   },
   "outputs": [],
   "source": [
    "def get_or_add_vertex(g, id):\n",
    "    u = g.vertex_by_id(id)\n",
    "    if u is None:\n",
    "        u = g.add_vertex_by_id(id)\n",
    "    return u"
   ]
  },
  {
   "cell_type": "code",
   "execution_count": null,
   "id": "2b7c4621-fd32-40db-8972-6a65bbd64fe6",
   "metadata": {
    "execution": {
     "iopub.execute_input": "2023-09-15T23:03:37.989836Z",
     "iopub.status.busy": "2023-09-15T23:03:37.989267Z",
     "iopub.status.idle": "2023-09-15T23:03:37.995534Z",
     "shell.execute_reply": "2023-09-15T23:03:37.994526Z",
     "shell.execute_reply.started": "2023-09-15T23:03:37.989813Z"
    }
   },
   "outputs": [],
   "source": [
    "def get_or_add_edge(g, author_a, author_b):\n",
    "    e = g.edge_by_ids(author_a, author_b)\n",
    "    if e is None:\n",
    "        e = g.add_edge_by_ids(author_a, author_b)\n",
    "    return e"
   ]
  },
  {
   "cell_type": "markdown",
   "id": "89c46a52-7637-4cc2-a328-4ea2419e46b8",
   "metadata": {},
   "source": [
    "## Reading the data and building the network"
   ]
  },
  {
   "cell_type": "code",
   "execution_count": null,
   "id": "0f1dc392-21ed-4adb-8d27-49ab0526512a",
   "metadata": {
    "execution": {
     "iopub.execute_input": "2023-09-15T23:03:38.401557Z",
     "iopub.status.busy": "2023-09-15T23:03:38.400882Z",
     "iopub.status.idle": "2023-09-15T23:03:38.405718Z",
     "shell.execute_reply": "2023-09-15T23:03:38.404769Z",
     "shell.execute_reply.started": "2023-09-15T23:03:38.401536Z"
    }
   },
   "outputs": [],
   "source": [
    "g = gte.Graph(directed=False)"
   ]
  },
  {
   "cell_type": "code",
   "execution_count": null,
   "id": "51386696-159a-4ca9-a8f1-faf5798c597d",
   "metadata": {
    "execution": {
     "iopub.execute_input": "2023-09-15T23:03:38.601467Z",
     "iopub.status.busy": "2023-09-15T23:03:38.600974Z",
     "iopub.status.idle": "2023-09-15T23:03:41.681027Z",
     "shell.execute_reply": "2023-09-15T23:03:41.680111Z",
     "shell.execute_reply.started": "2023-09-15T23:03:38.601443Z"
    }
   },
   "outputs": [],
   "source": [
    "with open(EDGES_FILE_PATH) as file:\n",
    "\n",
    "    next(file)\n",
    "    \n",
    "    for line in file:\n",
    "        parts = line.split(',')\n",
    "\n",
    "        author_a = int(parts[0])\n",
    "        author_b = int(parts[1].replace('\\n', ''))\n",
    "\n",
    "        if (author_a in chosenNodesSet and author_b in chosenNodesSet):\n",
    "            vertex_a = get_or_add_vertex(g, author_a)\n",
    "            vertex_b = get_or_add_vertex(g, author_b)\n",
    "            edge = get_or_add_edge(g, author_a, author_b)"
   ]
  },
  {
   "cell_type": "code",
   "execution_count": null,
   "id": "017181be-68e4-4e02-9fbe-2e6f42335961",
   "metadata": {
    "execution": {
     "iopub.execute_input": "2023-09-15T23:03:41.682723Z",
     "iopub.status.busy": "2023-09-15T23:03:41.682211Z",
     "iopub.status.idle": "2023-09-15T23:03:41.768228Z",
     "shell.execute_reply": "2023-09-15T23:03:41.767371Z",
     "shell.execute_reply.started": "2023-09-15T23:03:41.682696Z"
    }
   },
   "outputs": [],
   "source": [
    "g = gte.clean(g)"
   ]
  },
  {
   "cell_type": "code",
   "execution_count": null,
   "id": "11077aad-3b78-4a49-94c0-e97de5ac48dc",
   "metadata": {
    "execution": {
     "iopub.execute_input": "2023-09-15T23:04:55.700865Z",
     "iopub.status.busy": "2023-09-15T23:04:55.700640Z",
     "iopub.status.idle": "2023-09-15T23:04:55.706826Z",
     "shell.execute_reply": "2023-09-15T23:04:55.705807Z",
     "shell.execute_reply.started": "2023-09-15T23:04:55.700848Z"
    }
   },
   "outputs": [],
   "source": [
    "g"
   ]
  },
  {
   "cell_type": "code",
   "execution_count": null,
   "id": "58f23076-b324-4a4d-a73f-c75d6370129f",
   "metadata": {
    "execution": {
     "iopub.execute_input": "2023-09-15T23:03:41.769884Z",
     "iopub.status.busy": "2023-09-15T23:03:41.769172Z",
     "iopub.status.idle": "2023-09-15T23:03:46.421624Z",
     "shell.execute_reply": "2023-09-15T23:03:46.420840Z",
     "shell.execute_reply.started": "2023-09-15T23:03:41.769864Z"
    }
   },
   "outputs": [],
   "source": [
    "gte.save(g, 'github_social.net.gz')"
   ]
  },
  {
   "cell_type": "markdown",
   "id": "2007fcb0-e3f6-4a21-89a9-9056b6f06135",
   "metadata": {},
   "source": [
    "## Configuring the layout and rendering the network"
   ]
  },
  {
   "cell_type": "code",
   "execution_count": null,
   "id": "6e00504a-1776-4b37-9868-89ca4c5e214b",
   "metadata": {
    "execution": {
     "iopub.execute_input": "2023-09-15T23:03:46.425525Z",
     "iopub.status.busy": "2023-09-15T23:03:46.424058Z",
     "iopub.status.idle": "2023-09-15T23:03:47.230134Z",
     "shell.execute_reply": "2023-09-15T23:03:47.229122Z",
     "shell.execute_reply.started": "2023-09-15T23:03:46.425507Z"
    }
   },
   "outputs": [],
   "source": [
    "from graph_tool import draw\n",
    "import netpixi"
   ]
  },
  {
   "cell_type": "code",
   "execution_count": null,
   "id": "6578e088-7675-4f8b-bc6f-b344775fa138",
   "metadata": {
    "execution": {
     "iopub.execute_input": "2023-09-15T23:03:47.231224Z",
     "iopub.status.busy": "2023-09-15T23:03:47.230895Z",
     "iopub.status.idle": "2023-09-15T23:04:49.628215Z",
     "shell.execute_reply": "2023-09-15T23:04:49.627605Z",
     "shell.execute_reply.started": "2023-09-15T23:03:47.231204Z"
    }
   },
   "outputs": [],
   "source": [
    "layout = draw.sfdp_layout(g)"
   ]
  },
  {
   "cell_type": "code",
   "execution_count": null,
   "id": "6b9e2bf3-7bfd-40eb-8690-6880de42d0e2",
   "metadata": {
    "execution": {
     "iopub.execute_input": "2023-09-15T23:04:49.630025Z",
     "iopub.status.busy": "2023-09-15T23:04:49.629617Z",
     "iopub.status.idle": "2023-09-15T23:04:50.048846Z",
     "shell.execute_reply": "2023-09-15T23:04:50.047934Z",
     "shell.execute_reply.started": "2023-09-15T23:04:49.630003Z"
    }
   },
   "outputs": [],
   "source": [
    "gte.move(g, layout)"
   ]
  },
  {
   "cell_type": "code",
   "execution_count": null,
   "id": "2a03fbf6-d32c-4db9-b6a3-038f06b39839",
   "metadata": {
    "execution": {
     "iopub.execute_input": "2023-09-15T23:04:50.049934Z",
     "iopub.status.busy": "2023-09-15T23:04:50.049726Z",
     "iopub.status.idle": "2023-09-15T23:04:55.688789Z",
     "shell.execute_reply": "2023-09-15T23:04:55.687893Z",
     "shell.execute_reply.started": "2023-09-15T23:04:50.049917Z"
    }
   },
   "outputs": [],
   "source": [
    "gte.save(g, 'github_social_layout.net.gz')"
   ]
  },
  {
   "cell_type": "code",
   "execution_count": null,
   "id": "544a69dd-5a60-4c65-90e9-c06087ad0167",
   "metadata": {
    "execution": {
     "iopub.execute_input": "2023-09-15T23:04:55.690526Z",
     "iopub.status.busy": "2023-09-15T23:04:55.689786Z",
     "iopub.status.idle": "2023-09-15T23:04:55.698364Z",
     "shell.execute_reply": "2023-09-15T23:04:55.696824Z",
     "shell.execute_reply.started": "2023-09-15T23:04:55.690505Z"
    }
   },
   "outputs": [],
   "source": [
    "r = netpixi.render('github_social_layout.net.gz', infinite=True)"
   ]
  },
  {
   "cell_type": "markdown",
   "id": "3860136a-997e-402f-9917-12fdd7c59412",
   "metadata": {},
   "source": [
    "## Improving network vizualization"
   ]
  },
  {
   "cell_type": "code",
   "execution_count": null,
   "id": "586d6e2e-bac0-4f75-b810-ade3464cbd8b",
   "metadata": {
    "execution": {
     "iopub.execute_input": "2023-09-15T23:05:06.661293Z",
     "iopub.status.busy": "2023-09-15T23:05:06.660995Z",
     "iopub.status.idle": "2023-09-15T23:05:06.668652Z",
     "shell.execute_reply": "2023-09-15T23:05:06.667673Z",
     "shell.execute_reply.started": "2023-09-15T23:05:06.661275Z"
    }
   },
   "outputs": [],
   "source": [
    "r.vertex_default(\n",
    "    size=1,\n",
    "    color=0xff7700,\n",
    "    bwidth=0.2,\n",
    "    bcolor=0x0000ff,\n",
    ")"
   ]
  },
  {
   "cell_type": "code",
   "execution_count": null,
   "id": "d26f15c6-d02e-4fa4-85a0-1a58033900b6",
   "metadata": {
    "execution": {
     "iopub.execute_input": "2023-09-15T23:05:09.973164Z",
     "iopub.status.busy": "2023-09-15T23:05:09.972533Z",
     "iopub.status.idle": "2023-09-15T23:05:09.979157Z",
     "shell.execute_reply": "2023-09-15T23:05:09.978175Z",
     "shell.execute_reply.started": "2023-09-15T23:05:09.973143Z"
    }
   },
   "outputs": [],
   "source": [
    "r.edge_default(\n",
    "    width=0.2,\n",
    "    color=0xffffff,\n",
    "    curve1=0,\n",
    "    curve2=0,\n",
    ")"
   ]
  },
  {
   "cell_type": "markdown",
   "id": "4603ae38-dadb-4284-be5a-6edc72310fce",
   "metadata": {},
   "source": [
    "## Calculating Density and Transitivity"
   ]
  },
  {
   "cell_type": "code",
   "execution_count": null,
   "id": "f38bc0bc-c416-42b6-89f5-abed6d212aa3",
   "metadata": {
    "execution": {
     "iopub.execute_input": "2023-09-15T23:05:12.902358Z",
     "iopub.status.busy": "2023-09-15T23:05:12.901890Z",
     "iopub.status.idle": "2023-09-15T23:05:12.908377Z",
     "shell.execute_reply": "2023-09-15T23:05:12.906980Z",
     "shell.execute_reply.started": "2023-09-15T23:05:12.902341Z"
    }
   },
   "outputs": [],
   "source": [
    "g.density()"
   ]
  },
  {
   "cell_type": "code",
   "execution_count": null,
   "id": "5b3690c0-5a81-480b-9efd-ddde9fd0541c",
   "metadata": {
    "execution": {
     "iopub.execute_input": "2023-09-15T23:05:13.840982Z",
     "iopub.status.busy": "2023-09-15T23:05:13.840370Z",
     "iopub.status.idle": "2023-09-15T23:05:13.870139Z",
     "shell.execute_reply": "2023-09-15T23:05:13.869027Z",
     "shell.execute_reply.started": "2023-09-15T23:05:13.840961Z"
    }
   },
   "outputs": [],
   "source": [
    "g.transitivity()"
   ]
  },
  {
   "cell_type": "markdown",
   "id": "4246b1fd-9770-47bc-bb48-7d19288b63bc",
   "metadata": {},
   "source": [
    "## Analysing Degree Distribution"
   ]
  },
  {
   "cell_type": "code",
   "execution_count": null,
   "id": "e149e83b-e4b7-4d7d-ab71-cdc70481ee8a",
   "metadata": {
    "execution": {
     "iopub.execute_input": "2023-09-15T23:05:14.620636Z",
     "iopub.status.busy": "2023-09-15T23:05:14.619890Z",
     "iopub.status.idle": "2023-09-15T23:05:14.625716Z",
     "shell.execute_reply": "2023-09-15T23:05:14.624526Z",
     "shell.execute_reply.started": "2023-09-15T23:05:14.620618Z"
    }
   },
   "outputs": [],
   "source": [
    "degrees = g.get_total_degrees()"
   ]
  },
  {
   "cell_type": "code",
   "execution_count": null,
   "id": "a5f5a5f3-6434-45f5-9134-f8fd4adc2a12",
   "metadata": {
    "execution": {
     "iopub.execute_input": "2023-09-15T23:05:15.175991Z",
     "iopub.status.busy": "2023-09-15T23:05:15.174978Z",
     "iopub.status.idle": "2023-09-15T23:05:15.186642Z",
     "shell.execute_reply": "2023-09-15T23:05:15.185717Z",
     "shell.execute_reply.started": "2023-09-15T23:05:15.175968Z"
    }
   },
   "outputs": [],
   "source": [
    "degrees.describe()"
   ]
  },
  {
   "cell_type": "code",
   "execution_count": null,
   "id": "81e61dec-aa62-43d6-a0a6-3df310bf274b",
   "metadata": {
    "execution": {
     "iopub.execute_input": "2023-09-15T23:05:15.552250Z",
     "iopub.status.busy": "2023-09-15T23:05:15.551999Z",
     "iopub.status.idle": "2023-09-15T23:05:15.880922Z",
     "shell.execute_reply": "2023-09-15T23:05:15.880045Z",
     "shell.execute_reply.started": "2023-09-15T23:05:15.552233Z"
    }
   },
   "outputs": [],
   "source": [
    "degrees.hist();"
   ]
  },
  {
   "cell_type": "code",
   "execution_count": null,
   "id": "e32f3cf5-d236-4bd1-b35d-33e28f3bc996",
   "metadata": {
    "execution": {
     "iopub.execute_input": "2023-09-15T23:05:16.120341Z",
     "iopub.status.busy": "2023-09-15T23:05:16.120014Z",
     "iopub.status.idle": "2023-09-15T23:05:16.130253Z",
     "shell.execute_reply": "2023-09-15T23:05:16.129550Z",
     "shell.execute_reply.started": "2023-09-15T23:05:16.120324Z"
    }
   },
   "outputs": [],
   "source": [
    "dst.not_normal(degrees)"
   ]
  },
  {
   "cell_type": "code",
   "execution_count": null,
   "id": "f19202bc-8d05-4a23-93a4-45b0ef4a8e90",
   "metadata": {
    "execution": {
     "iopub.execute_input": "2023-09-15T23:05:16.687495Z",
     "iopub.status.busy": "2023-09-15T23:05:16.686649Z",
     "iopub.status.idle": "2023-09-15T23:05:16.848843Z",
     "shell.execute_reply": "2023-09-15T23:05:16.847867Z",
     "shell.execute_reply.started": "2023-09-15T23:05:16.687477Z"
    }
   },
   "outputs": [],
   "source": [
    "dst.more_powerlaw_than_lognormal(degrees)"
   ]
  },
  {
   "cell_type": "code",
   "execution_count": null,
   "id": "f54b3482-8cc2-4512-8008-de9cd0918381",
   "metadata": {
    "execution": {
     "iopub.execute_input": "2023-09-15T23:05:17.061640Z",
     "iopub.status.busy": "2023-09-15T23:05:17.061003Z",
     "iopub.status.idle": "2023-09-15T23:05:17.102733Z",
     "shell.execute_reply": "2023-09-15T23:05:17.101933Z",
     "shell.execute_reply.started": "2023-09-15T23:05:17.061620Z"
    }
   },
   "outputs": [],
   "source": [
    "dst.more_powerlaw_than_exponential(degrees)"
   ]
  },
  {
   "cell_type": "markdown",
   "id": "9ff77df4-0631-4bb1-a7d3-85f99bfafe49",
   "metadata": {},
   "source": [
    "## Analyzing Distance Distribution"
   ]
  },
  {
   "cell_type": "code",
   "execution_count": null,
   "id": "ed97dd82-3e51-442b-91c6-0e85c6d55f4b",
   "metadata": {
    "execution": {
     "iopub.execute_input": "2023-09-15T23:05:17.618885Z",
     "iopub.status.busy": "2023-09-15T23:05:17.618289Z",
     "iopub.status.idle": "2023-09-15T23:06:36.010060Z",
     "shell.execute_reply": "2023-09-15T23:06:36.009125Z",
     "shell.execute_reply.started": "2023-09-15T23:05:17.618869Z"
    }
   },
   "outputs": [],
   "source": [
    "distances = g.get_distances()"
   ]
  },
  {
   "cell_type": "code",
   "execution_count": null,
   "id": "065561e8-47ed-4339-890e-3d6fd1eff800",
   "metadata": {
    "execution": {
     "iopub.execute_input": "2023-09-15T23:06:36.011992Z",
     "iopub.status.busy": "2023-09-15T23:06:36.011419Z",
     "iopub.status.idle": "2023-09-15T23:06:59.630017Z",
     "shell.execute_reply": "2023-09-15T23:06:59.629181Z",
     "shell.execute_reply.started": "2023-09-15T23:06:36.011970Z"
    }
   },
   "outputs": [],
   "source": [
    "distances.describe()"
   ]
  },
  {
   "cell_type": "code",
   "execution_count": null,
   "id": "a58b68db-0d5d-41f7-a02f-9caef1c6665d",
   "metadata": {
    "execution": {
     "iopub.execute_input": "2023-09-15T23:06:59.631395Z",
     "iopub.status.busy": "2023-09-15T23:06:59.631157Z",
     "iopub.status.idle": "2023-09-15T23:07:13.165735Z",
     "shell.execute_reply": "2023-09-15T23:07:13.164862Z",
     "shell.execute_reply.started": "2023-09-15T23:06:59.631374Z"
    }
   },
   "outputs": [],
   "source": [
    "distances.hist();"
   ]
  },
  {
   "cell_type": "code",
   "execution_count": null,
   "id": "f00c66ae-8eae-4528-997f-61dac97484c4",
   "metadata": {
    "execution": {
     "iopub.execute_input": "2023-09-15T23:07:13.168129Z",
     "iopub.status.busy": "2023-09-15T23:07:13.167577Z",
     "iopub.status.idle": "2023-09-15T23:07:13.173990Z",
     "shell.execute_reply": "2023-09-15T23:07:13.173096Z",
     "shell.execute_reply.started": "2023-09-15T23:07:13.168108Z"
    }
   },
   "outputs": [],
   "source": [
    "log(g.num_vertices())"
   ]
  }
 ],
 "metadata": {
  "kernelspec": {
   "display_name": "Python 3 (ipykernel)",
   "language": "python",
   "name": "python3"
  },
  "language_info": {
   "codemirror_mode": {
    "name": "ipython",
    "version": 3
   },
   "file_extension": ".py",
   "mimetype": "text/x-python",
   "name": "python",
   "nbconvert_exporter": "python",
   "pygments_lexer": "ipython3",
   "version": "3.10.12"
  }
 },
 "nbformat": 4,
 "nbformat_minor": 5
}
